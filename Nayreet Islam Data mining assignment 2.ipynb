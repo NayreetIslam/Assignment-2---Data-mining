{
 "cells": [
  {
   "cell_type": "markdown",
   "metadata": {},
   "source": [
    "# Assignment 2 \n",
    "\n",
    "It is impractical to go take a raw text data and fit it in a machine learning or deep learning model. The data needs to be prepared (cleaned) first which involves a wide range of text preparation approaches and steps. Such approaches often depends on the characteristics and pattern of the data as well as the natural language processing task we are going to do.\n",
    "\n",
    "\n",
    "For this assignment, I was given a CSV file. Which contains five columns such as ID, Time stamp Title of the news story, Content of the news story and Pageview count of the news story.\n",
    "The goal of this assignment is to prepare the text data which can be used by any machine learning model for predicting pageview. \n"
   ]
  },
  {
   "cell_type": "markdown",
   "metadata": {},
   "source": [
    "# Importing the libraries"
   ]
  },
  {
   "cell_type": "code",
   "execution_count": 1,
   "metadata": {
    "collapsed": true
   },
   "outputs": [],
   "source": [
    "from nltk.corpus import stopwords\n",
    "from nltk.tokenize import word_tokenize\n",
    "from sklearn.feature_extraction.text import CountVectorizer\n",
    "import numpy as np\n",
    "import scipy\n",
    "import pandas as pd\n",
    "from numpy import loadtxt, zeros, ones, array, linspace, logspace\n",
    "from pylab import scatter, show, title, xlabel, ylabel, plot, contour\n",
    "import string\n",
    "import matplotlib.pyplot as plt\n",
    "%matplotlib inline\n",
    "import time\n",
    "import pylab as pl"
   ]
  },
  {
   "cell_type": "markdown",
   "metadata": {},
   "source": [
    "# Load the CSV data\n",
    "For this assignment, I read the CSV data called \"2018-ENGR5775-ASSIGNMENT2.csv\" from the current working directory."
   ]
  },
  {
   "cell_type": "code",
   "execution_count": 2,
   "metadata": {
    "collapsed": true
   },
   "outputs": [],
   "source": [
    "csv_filename=\"2018-ENGR5775-ASSIGNMENT2.csv\"\n",
    "df=pd.read_csv(csv_filename, encoding='ISO-8859-1')"
   ]
  },
  {
   "cell_type": "markdown",
   "metadata": {},
   "source": [
    "# Inspecting the data\n",
    "After reading the data, I inspect the data just to have an idea what kind of textual data is available. Such inspection can allow us to gain a deeper a knowledge regarding its contextual information and planning the data preparation and cleaning up tasks accordingly. "
   ]
  },
  {
   "cell_type": "code",
   "execution_count": 3,
   "metadata": {},
   "outputs": [
    {
     "name": "stdout",
     "output_type": "stream",
     "text": [
      "            id                    crawled  \\\n",
      "0      9546141  2016-01-01T04:47:00+00:00   \n",
      "1      9544391  2016-01-01T05:01:00+00:00   \n",
      "2      9544392  2016-01-01T05:01:00+00:00   \n",
      "3      9544393  2016-01-01T05:01:00+00:00   \n",
      "4      9544394  2016-01-01T05:01:00+00:00   \n",
      "5      9544395  2016-01-01T05:01:00+00:00   \n",
      "6      9544396  2016-01-01T05:01:00+00:00   \n",
      "7      9544397  2016-01-01T05:01:00+00:00   \n",
      "8      9544398  2016-01-01T05:01:00+00:00   \n",
      "9      9544390  2016-01-01T05:02:00+00:00   \n",
      "10     9544389  2016-01-01T05:03:00+00:00   \n",
      "11     9544387  2016-01-01T05:05:00+00:00   \n",
      "12     9544385  2016-01-01T05:08:00+00:00   \n",
      "13     9544383  2016-01-01T05:10:00+00:00   \n",
      "14     9544380  2016-01-01T05:15:00+00:00   \n",
      "15     9551093  2016-01-01T14:14:00+00:00   \n",
      "16     9551746  2016-01-01T15:04:00+00:00   \n",
      "17     9552250  2016-01-01T15:40:00+00:00   \n",
      "18     9552773  2016-01-01T16:04:00+00:00   \n",
      "19     9553182  2016-01-01T16:42:00+00:00   \n",
      "20     9554025  2016-01-01T17:55:00+00:00   \n",
      "21     9554075  2016-01-01T18:14:00+00:00   \n",
      "22     9554076  2016-01-01T18:14:00+00:00   \n",
      "23     9554231  2016-01-01T18:38:00+00:00   \n",
      "24     9554260  2016-01-01T18:58:00+00:00   \n",
      "25     9554347  2016-01-01T19:37:00+00:00   \n",
      "26     9554847  2016-01-01T21:21:00+00:00   \n",
      "27     9556367  2016-01-01T23:56:00+00:00   \n",
      "28     9558477  2016-01-02T05:00:00+00:00   \n",
      "29     9558518  2016-01-02T05:00:00+00:00   \n",
      "...        ...                        ...   \n",
      "1429  10448566  2016-01-31T05:15:00+00:00   \n",
      "1430  10448729  2016-01-31T05:15:00+00:00   \n",
      "1431  10448730  2016-01-31T05:15:00+00:00   \n",
      "1432  10448738  2016-01-31T05:15:00+00:00   \n",
      "1433  10448935  2016-01-31T05:15:00+00:00   \n",
      "1434  10448941  2016-01-31T05:15:00+00:00   \n",
      "1435  10448954  2016-01-31T05:15:00+00:00   \n",
      "1436  10449144  2016-01-31T05:15:00+00:00   \n",
      "1437  10449174  2016-01-31T05:15:00+00:00   \n",
      "1438  10449423  2016-01-31T05:15:00+00:00   \n",
      "1439  10451676  2016-01-31T05:28:00+00:00   \n",
      "1440  10452538  2016-01-31T07:21:00+00:00   \n",
      "1441  10453261  2016-01-31T09:03:00+00:00   \n",
      "1442  10455390  2016-01-31T13:20:00+00:00   \n",
      "1443  10455602  2016-01-31T13:27:00+00:00   \n",
      "1444  10455803  2016-01-31T13:36:00+00:00   \n",
      "1445  10455804  2016-01-31T13:44:00+00:00   \n",
      "1446  10455968  2016-01-31T13:50:00+00:00   \n",
      "1447  10455960  2016-01-31T14:00:37+00:00   \n",
      "1448  10457076  2016-01-31T15:10:00+00:00   \n",
      "1449  10457350  2016-01-31T15:17:00+00:00   \n",
      "1450  10458499  2016-01-31T16:29:00+00:00   \n",
      "1451  10458249  2016-01-31T16:31:00+00:00   \n",
      "1452  10458782  2016-01-31T16:58:00+00:00   \n",
      "1453  10460641  2016-01-31T18:45:00+00:00   \n",
      "1454  10460645  2016-01-31T18:47:00+00:00   \n",
      "1455  10460921  2016-01-31T18:56:00+00:00   \n",
      "1456  10461167  2016-01-31T19:13:00+00:00   \n",
      "1457  10463118  2016-01-31T21:19:00+00:00   \n",
      "1458  10464078  2016-01-31T21:43:00+00:00   \n",
      "\n",
      "                                                  title  \\\n",
      "0     Kanye West Releases Awful New Song on New Year...   \n",
      "1                Why Everybody Should Work in Hollywood   \n",
      "2     Bill Cosby Tamir Rice And The Power of Prosecu...   \n",
      "3             Translating the ??Iliad??? Who Isn??t.   \n",
      "4       How Oprah Created a Profitable Weight-Loss Plan   \n",
      "5                  The World Falls For Diana??s Nieces   \n",
      "6                   Why Democrats Are Ready for Lincoln   \n",
      "7                 When Florida Men Overcame Our Racists   \n",
      "8     When Mom??s A Drama Queen: Anne Enright??s ...   \n",
      "9     Gay Open Marriages Need To Come Out of the Closet   \n",
      "10               The Syrian Refugee Band Touring Europe   \n",
      "11              What You Missed While You Were Trumping   \n",
      "12    This Is What Should Happen In The Final Season...   \n",
      "13    ??Sherlock?? Sends Benedict Cumberbatch Back...   \n",
      "14            This Mad Scientist Will Clone 100000 Cows   \n",
      "15                Cosby Speaks Out After Assault Arrest   \n",
      "16                    'M*A*S*H' Actor Wayne Rogers Dies   \n",
      "17             380 Injured in Filipino NYE Celebrations   \n",
      "18                       Man Crushed by Elevator on NYE   \n",
      "19                  Natalie Cole Dies in L.A. at Age 65   \n",
      "20                  Obama Delays Iran Missile Sanctions   \n",
      "21                2 Killed Manhunt Underway in Tel Aviv   \n",
      "22            Watch: Last Night??s TV Hosts Get Wasted   \n",
      "23               Man Attacked French Soldiers At Mosque   \n",
      "24                  4 Dead in Shooting Near Los Angeles   \n",
      "25               Clinton Raised $37M In Fourth Quarter    \n",
      "26               Trump Used in Jihadist Recruitment Vid   \n",
      "27     Goodbye To Natalie Cole: Soul Diva Fighter Queen   \n",
      "28    The Bars Where Warhol Made Merry: New York??s...   \n",
      "29                     Best of Breslin: The Harlem Riot   \n",
      "...                                                 ...   \n",
      "1429  ??Desire??: Dylan??s Sloppiest Masterpiece ...   \n",
      "1430                         The Godfather of Robots??   \n",
      "1431         This World Needs This Gay Mormon Superhero   \n",
      "1432               Paris Couture: The Wilder The Better   \n",
      "1433    Diane Rehm On Living??And Dying??With Dignity   \n",
      "1434           The Lies Women Tell About Sexual Arousal   \n",
      "1435  The Young Drug Lords Fighting for El Chapo's T...   \n",
      "1436              How Instagram Changed the Celeb Crush   \n",
      "1437                What Kind of Jew Is Bernie Sanders?   \n",
      "1438       How to Make Abraham Lincoln's Beef & Cabbage   \n",
      "1439  The Best of Sundance 2016: ??The Birth of a N...   \n",
      "1440  The Mad Genius of ??The Venture Bros.??: TV...   \n",
      "1441  Meek Mill Finally Beats Drake with Vicious Dis...   \n",
      "1442                 Seminary Student Wanted Infant Sex   \n",
      "1443                     Djokovic Wins 6th Aussie Title   \n",
      "1444         Manziel Involved in ??Assault?? Incident   \n",
      "1445                  Dozens of Cartel Members Arrested   \n",
      "1446            Teen Charged With Murdering Young Girl    \n",
      "1447             The Sorry State of Huckabee & Santorum   \n",
      "1448  Carson's Campaign Meets With Alleged Organ Smu...   \n",
      "1449            ISIS Attack In Syria During Peace Talks   \n",
      "1450  President Trump is Now a Possibility. And It's...   \n",
      "1451           Oral Roberts Making Students Wear Fitbit   \n",
      "1452             Iran Gives Medals for U.S. Sailor Grab   \n",
      "1453              Being an Immigrant Is Now Even Harder   \n",
      "1454             Barclays Credit Suisse Settle with SEC   \n",
      "1455             10K Migrant Children Missing in Europe   \n",
      "1456            Trump Staffer Claim: Sex Discrimination   \n",
      "1457  Will Evangelicals Smite Down Donald Trump in I...   \n",
      "1458       Is 5K the New Normal for Super Bowl Tickets?   \n",
      "\n",
      "                                       Original content  pageviews  \n",
      "0     Is Drake inside Kanye West??s head? That??s ...    29478.0  \n",
      "1     I??m convinced that working in Hollywood is t...    24939.0  \n",
      "2     What do Bill Cosby and Tamir Rice??s have in ...    13595.0  \n",
      "3     Pop quiz: Which is greater? (a) The number of ...     4752.0  \n",
      "4     Forget portion control: weight loss is a power...    26549.0  \n",
      "5     They are young blonde and beautiful. They hail...    73902.0  \n",
      "6     A Just and Generous Nation has appeared just i...     7723.0  \n",
      "7     The second decade of the 21st century has been...     8442.0  \n",
      "8     Every family is in its own way a mini theater ...     4870.0  \n",
      "9     The year 2015 was a landmark one for same-sex ...    17115.0  \n",
      "10    BUKAREVAC Serbia ?? On a cool September night...     4351.0  \n",
      "11    One of the most frustrating aspects of the Yea...    12562.0  \n",
      "12    So have you managed it? Have you done the read...    20929.0  \n",
      "13    They finally got Benedict Cumberbatch??s Sher...    34501.0  \n",
      "14    Two decades after the birth of Dolly the sheep...    53565.0  \n",
      "15    Bill Cosby spoke out Thursday evening to his 4...    36401.0  \n",
      "16    The actor who played \\Trapper\\\" John McIntyre ...    23079.0  \n",
      "17    At least 380 people were injured and two were ...    19415.0  \n",
      "18    A 25-year-old man was crushed to death fifteen...    17781.0  \n",
      "19     Natalie Cole died of congestive heart failure...    37977.0  \n",
      "20    The White House has delayed imposing sanctions...    11399.0  \n",
      "21    Two were killed and at least three wounded aft...    11445.0  \n",
      "22    It??s a time-honored tradition to ring in the...   102564.0  \n",
      "23    Two people were injured Friday after a group o...     9445.0  \n",
      "24    Four people were dead after a New Year's Eve s...    21138.0  \n",
      "25    Hillary Clinton's campaign officials said the ...    16612.0  \n",
      "26    Donald Trump's rhetoric about Muslims and Syri...    46351.0  \n",
      "27    The New Year began with very sad news:?ÿ legen...    21389.0  \n",
      "28    In the mid 1970s when I moved to Manhattan the...     5809.0  \n",
      "29    The shirtless children ran through the gutters...     2864.0  \n",
      "...                                                 ...        ...  \n",
      "1429  Forty years ago this month Bob Dylan unleashed...    15886.0  \n",
      "1430  Marvin Minsky a pioneer of artificial intellig...     3956.0  \n",
      "1431  Brian Andersen joined the Mormon Church becaus...     7331.0  \n",
      "1432  PARIS - It's a pretty wild idea--buying an ost...     5207.0  \n",
      "1433  ??Good morning sweetheart. How are you?? Th...    22311.0  \n",
      "1434  Scientists have revealed the unimaginable comp...    47267.0  \n",
      "1435  MEXICO CITY Mexico ?? Some locals call the lo...   131871.0  \n",
      "1436  Joey MacIntyre?ÿis kissing my best friend.?ÿ M...     4656.0  \n",
      "1437  Around The Daily Beast office I??m known for ...    64735.0  \n",
      "1438  President 16: Abraham Lincoln March 4 1861 ??...     4875.0  \n",
      "1439  Each year upwards of 50000 people invade the s...    14871.0  \n",
      "1440  For those that aren??t fans??deeply devoted ...     9980.0  \n",
      "1441  Hip-hop??s Jimmy Hoffa has risen from the dea...   247492.0  \n",
      "1442  Joel Wright a 23-year-old seminary student in ...     7923.0  \n",
      "1443  Novak Djokovic won the Australian Open on Sund...    13173.0  \n",
      "1444  Cleveland Browns quarterback Johnny Manziel ha...    11518.0  \n",
      "1445  At least two dozen suspected members of the Si...    13599.0  \n",
      "1446  David E. Eisenhauer an 18-year-old from Columb...    15877.0  \n",
      "1447  Rick Santorum was unhappy.?ÿ While other candi...    40747.0  \n",
      "1448  Two days out from the Iowa Caucus most campaig...     7780.0  \n",
      "1449  ISIS claimed responsibility for a triple bombi...    11404.0  \n",
      "1450  Like many members of the media I have spent mu...    87554.0  \n",
      "1451  Oral Roberts University announced that it plan...     8089.0  \n",
      "1452  Ayatollah Ali Khamenei Iran's supreme leader a...    11576.0  \n",
      "1453  When I came to the United States from Turkey a...     5902.0  \n",
      "1454  Barclays and Credit Suisse are going to settle...     6627.0  \n",
      "1455  Europol the European Union's police intelligen...     5118.0  \n",
      "1456  A former paid organizer for Donald Trump's cam...    24839.0  \n",
      "1457  WINDSOR HEIGHTS Iowa??The pastor didn??t wan...    13125.0  \n",
      "1458  The price of entry to the most excessive event...     2451.0  \n",
      "\n",
      "[1459 rows x 5 columns]\n"
     ]
    }
   ],
   "source": [
    "print(df)"
   ]
  },
  {
   "cell_type": "markdown",
   "metadata": {},
   "source": [
    "# Install NLTK\n",
    "For the text preparation I use, the Natural Language Toolkit (NLTK). NLTK is a Python library written for working and modeling text. It is now widely being used as it provides good libraries for loading and cleaning text that we can use to get our data ready for working with machine learning and deep learning algorithms."
   ]
  },
  {
   "cell_type": "code",
   "execution_count": 4,
   "metadata": {},
   "outputs": [
    {
     "name": "stdout",
     "output_type": "stream",
     "text": [
      "Collecting nltk\n",
      "  Downloading nltk-3.2.5.tar.gz (1.2MB)\n",
      "Requirement already up-to-date: six in c:\\users\\100631155\\appdata\\local\\continuum\\anaconda3\\lib\\site-packages (from nltk)\n",
      "Building wheels for collected packages: nltk\n",
      "  Running setup.py bdist_wheel for nltk: started\n",
      "  Running setup.py bdist_wheel for nltk: finished with status 'done'\n",
      "  Stored in directory: C:\\Users\\100631155\\AppData\\Local\\pip\\Cache\\wheels\\18\\9c\\1f\\276bc3f421614062468cb1c9d695e6086d0c73d67ea363c501\n",
      "Successfully built nltk\n",
      "Installing collected packages: nltk\n",
      "  Found existing installation: nltk 3.2.4\n",
      "    Uninstalling nltk-3.2.4:\n",
      "      Successfully uninstalled nltk-3.2.4\n",
      "Successfully installed nltk-3.2.5\n"
     ]
    },
    {
     "name": "stderr",
     "output_type": "stream",
     "text": [
      "You are using pip version 9.0.1, however version 9.0.3 is available.\n",
      "You should consider upgrading via the 'python -m pip install --upgrade pip' command.\n"
     ]
    }
   ],
   "source": [
    "import sys\n",
    "!{sys.executable} -m pip install -U nltk"
   ]
  },
  {
   "cell_type": "markdown",
   "metadata": {},
   "source": [
    "# nltk.dowload()\n",
    "After installation, you will need to install the data used with the library, including a great set of documents that you can use later for testing other tools in NLTK."
   ]
  },
  {
   "cell_type": "code",
   "execution_count": null,
   "metadata": {},
   "outputs": [],
   "source": [
    "import nltk\n",
    "nltk.download()"
   ]
  },
  {
   "cell_type": "markdown",
   "metadata": {},
   "source": [
    "# Categorizing the data in terms of pageviews"
   ]
  },
  {
   "cell_type": "code",
   "execution_count": 5,
   "metadata": {},
   "outputs": [],
   "source": [
    "high = df.pageviews >= 12000\n",
    "low = df.pageviews < 12000\n",
    "df.loc[high,'pageviews'] = 1\n",
    "df.loc[low,'pageviews'] = 0"
   ]
  },
  {
   "cell_type": "markdown",
   "metadata": {},
   "source": [
    "# Preparing the textual data \n",
    "\n"
   ]
  },
  {
   "cell_type": "markdown",
   "metadata": {},
   "source": [
    "# Filter out those data which contains null values"
   ]
  },
  {
   "cell_type": "code",
   "execution_count": 6,
   "metadata": {},
   "outputs": [
    {
     "data": {
      "text/html": [
       "<div>\n",
       "<style>\n",
       "    .dataframe thead tr:only-child th {\n",
       "        text-align: right;\n",
       "    }\n",
       "\n",
       "    .dataframe thead th {\n",
       "        text-align: left;\n",
       "    }\n",
       "\n",
       "    .dataframe tbody tr th {\n",
       "        vertical-align: top;\n",
       "    }\n",
       "</style>\n",
       "<table border=\"1\" class=\"dataframe\">\n",
       "  <thead>\n",
       "    <tr style=\"text-align: right;\">\n",
       "      <th></th>\n",
       "      <th>id</th>\n",
       "      <th>crawled</th>\n",
       "      <th>title</th>\n",
       "      <th>Original content</th>\n",
       "      <th>pageviews</th>\n",
       "    </tr>\n",
       "  </thead>\n",
       "  <tbody>\n",
       "    <tr>\n",
       "      <th>0</th>\n",
       "      <td>9546141</td>\n",
       "      <td>2016-01-01T04:47:00+00:00</td>\n",
       "      <td>Kanye West Releases Awful New Song on New Year...</td>\n",
       "      <td>Is Drake inside Kanye West??s head? That??s ...</td>\n",
       "      <td>1.0</td>\n",
       "    </tr>\n",
       "    <tr>\n",
       "      <th>1</th>\n",
       "      <td>9544391</td>\n",
       "      <td>2016-01-01T05:01:00+00:00</td>\n",
       "      <td>Why Everybody Should Work in Hollywood</td>\n",
       "      <td>I??m convinced that working in Hollywood is t...</td>\n",
       "      <td>1.0</td>\n",
       "    </tr>\n",
       "    <tr>\n",
       "      <th>2</th>\n",
       "      <td>9544392</td>\n",
       "      <td>2016-01-01T05:01:00+00:00</td>\n",
       "      <td>Bill Cosby Tamir Rice And The Power of Prosecu...</td>\n",
       "      <td>What do Bill Cosby and Tamir Rice??s have in ...</td>\n",
       "      <td>1.0</td>\n",
       "    </tr>\n",
       "    <tr>\n",
       "      <th>3</th>\n",
       "      <td>9544393</td>\n",
       "      <td>2016-01-01T05:01:00+00:00</td>\n",
       "      <td>Translating the ??Iliad??? Who Isn??t.</td>\n",
       "      <td>Pop quiz: Which is greater? (a) The number of ...</td>\n",
       "      <td>0.0</td>\n",
       "    </tr>\n",
       "    <tr>\n",
       "      <th>4</th>\n",
       "      <td>9544394</td>\n",
       "      <td>2016-01-01T05:01:00+00:00</td>\n",
       "      <td>How Oprah Created a Profitable Weight-Loss Plan</td>\n",
       "      <td>Forget portion control: weight loss is a power...</td>\n",
       "      <td>1.0</td>\n",
       "    </tr>\n",
       "  </tbody>\n",
       "</table>\n",
       "</div>"
      ],
      "text/plain": [
       "        id                    crawled  \\\n",
       "0  9546141  2016-01-01T04:47:00+00:00   \n",
       "1  9544391  2016-01-01T05:01:00+00:00   \n",
       "2  9544392  2016-01-01T05:01:00+00:00   \n",
       "3  9544393  2016-01-01T05:01:00+00:00   \n",
       "4  9544394  2016-01-01T05:01:00+00:00   \n",
       "\n",
       "                                               title  \\\n",
       "0  Kanye West Releases Awful New Song on New Year...   \n",
       "1             Why Everybody Should Work in Hollywood   \n",
       "2  Bill Cosby Tamir Rice And The Power of Prosecu...   \n",
       "3          Translating the ??Iliad??? Who Isn??t.   \n",
       "4    How Oprah Created a Profitable Weight-Loss Plan   \n",
       "\n",
       "                                    Original content  pageviews  \n",
       "0  Is Drake inside Kanye West??s head? That??s ...        1.0  \n",
       "1  I??m convinced that working in Hollywood is t...        1.0  \n",
       "2  What do Bill Cosby and Tamir Rice??s have in ...        1.0  \n",
       "3  Pop quiz: Which is greater? (a) The number of ...        0.0  \n",
       "4  Forget portion control: weight loss is a power...        1.0  "
      ]
     },
     "execution_count": 6,
     "metadata": {},
     "output_type": "execute_result"
    }
   ],
   "source": [
    "df = df.dropna(how='any',axis=0)\n",
    "df.head()"
   ]
  },
  {
   "cell_type": "markdown",
   "metadata": {},
   "source": [
    "# Filter Out Punctuation\n",
    "Clean text often means a list of words or tokens that we can work with in our machine learning models. We need to split tokens based on white space and punctuation. We can filter out all tokens that we are not interested in, such as all standalone punctuation."
   ]
  },
  {
   "cell_type": "code",
   "execution_count": 7,
   "metadata": {
    "collapsed": true
   },
   "outputs": [],
   "source": [
    "df[df.columns[2]] = df[df.columns[2]].str.replace('[{}]'.format(string.punctuation), '')\n",
    "df[df.columns[3]] = df[df.columns[3]].str.replace('[{}]'.format(string.punctuation), '')"
   ]
  },
  {
   "cell_type": "markdown",
   "metadata": {},
   "source": [
    "# Filter out redundant characters"
   ]
  },
  {
   "cell_type": "code",
   "execution_count": 8,
   "metadata": {},
   "outputs": [],
   "source": [
    "df[df.columns[2]]= df[df.columns[2]].map(lambda x: str(x).replace('??', \"'\"))\n",
    "df[df.columns[3]] = df[df.columns[3]].map(lambda k: str(k).replace('??', \"'\"))"
   ]
  },
  {
   "cell_type": "markdown",
   "metadata": {},
   "source": [
    "# Filter out stopwords\n",
    "Stop words are those words that do not contribute to the deeper meaning of the phrase. They are the most common words such as: “the“, “a“, and “is“ etc..  For some applications like documentation classification, it may make sense to remove stop words. NLTK provides a list of commonly agreed upon stop words for a variety of languages, such as English. In this assignment, I also filter out all the stop words. "
   ]
  },
  {
   "cell_type": "code",
   "execution_count": 9,
   "metadata": {},
   "outputs": [
    {
     "name": "stdout",
     "output_type": "stream",
     "text": [
      "0    [kanye, west, releases, awful, new, song, new,...\n",
      "1                         [everybody, work, hollywood]\n",
      "2       [bill, cosby, tamir, rice, power, prosecutors]\n",
      "3                        [translating, iliad, isnt]\n",
      "4       [oprah, created, profitable, weightloss, plan]\n",
      "Name: title, dtype: object\n",
      "0    [drake, inside, kanye, wests, head, thats, i...\n",
      "1    [im, convinced, working, hollywood, effective...\n",
      "2    [bill, cosby, tamir, rices, common, cases, re...\n",
      "3    [pop, quiz, greater, number, republican, presi...\n",
      "4    [forget, portion, control, weight, loss, power...\n",
      "Name: Original content, dtype: object\n"
     ]
    }
   ],
   "source": [
    "from nltk.corpus import stopwords\n",
    "stop = stopwords.words('english')\n",
    "df[df.columns[2]] = (df[df.columns[2]].str.lower().str.split()).apply(lambda x: ([item for item in x if item not in stop]))\n",
    "df[df.columns[3]] = (df[df.columns[3]].str.lower().str.split()).apply(lambda k: ([item for item in k if item not in stop]))\n",
    "print(df[df.columns[2]].head())\n",
    "print(df[df.columns[3]].head())"
   ]
  },
  {
   "cell_type": "markdown",
   "metadata": {},
   "source": [
    "# Stemming Words\n",
    "Stemming refers to the process of reducing each word to its root or base. Some applications, like document classification, may benefit from stemming to both reduce the vocabulary and to focus on the sense or sentiment of a document rather than deeper meaning. In this assignment, I use one of the popular stemming algorithms called Porter Stemming algorithm."
   ]
  },
  {
   "cell_type": "code",
   "execution_count": 10,
   "metadata": {},
   "outputs": [
    {
     "name": "stdout",
     "output_type": "stream",
     "text": [
      "0    [kany, west, releas, aw, new, song, new, year...\n",
      "1                         [everybodi, work, hollywood]\n",
      "2        [bill, cosbi, tamir, rice, power, prosecutor]\n",
      "3                           [translat, iliad, isnt]\n",
      "4             [oprah, creat, profit, weightloss, plan]\n",
      "Name: title, dtype: object\n",
      "0    [drake, insid, kany, west, head, that, impre...\n",
      "1    [im, convinc, work, hollywood, effect, effici...\n",
      "2    [bill, cosbi, tamir, rice, common, case, reve...\n",
      "3    [pop, quiz, greater, number, republican, presi...\n",
      "4    [forget, portion, control, weight, loss, power...\n",
      "Name: Original content, dtype: object\n"
     ]
    }
   ],
   "source": [
    "from nltk.stem.porter import PorterStemmer\n",
    "porter = PorterStemmer()\n",
    "df[df.columns[2]] = (df[df.columns[2]]).apply(lambda x: [porter.stem(y) for y in x])\n",
    "df[df.columns[3]] = (df[df.columns[3]]).apply(lambda k: [porter.stem(l) for l in k])\n",
    "print(df[df.columns[2]].head())\n",
    "print(df[df.columns[3]].head())"
   ]
  },
  {
   "cell_type": "markdown",
   "metadata": {},
   "source": [
    "# Term document matrix\n",
    "Raw text data cannot directly be used in most of the machine learning algorithms. We need to convert the texts to numbers for performing such algorithms. However, we can convert the text to some vectors of numbers which can be used as input to different machine learning algorithms. One prominent example is Bag-of-Words Model which stores the occurrences of the words in the document. Each word has a unique id. The document is represented as a vector of known words which contains the frequency of each word as its value. \n",
    "\n",
    "In this assignment, I use CountVectorizer to count the words simply through tokenizing and building a  vocabulary of all the known words. "
   ]
  },
  {
   "cell_type": "code",
   "execution_count": 11,
   "metadata": {},
   "outputs": [
    {
     "name": "stdout",
     "output_type": "stream",
     "text": [
      "['kany west releas aw new song new year\\x83 eve', 'everybodi work hollywood', 'bill cosbi tamir rice power prosecutor', 'translat \\x83iliad\\x83 isn\\x83t', 'oprah creat profit weightloss plan', 'world fall diana\\x83 niec', 'democrat readi lincoln', 'florida men overcam racist', 'mom\\x83 drama queen ann enright\\x83 \\x83the green road\\x83', 'gay open marriag need come closet', 'syrian refuge band tour europ', 'miss trump', 'happen final season \\x83downton abbey\\x83', '\\x83sherlock\\x83 send benedict cumberbatch back time victorian london', 'mad scientist clone 100000 cow', 'cosbi speak assault arrest', 'mash actor wayn roger die', '380 injur filipino nye celebr', 'man crush elev nye', 'natali cole die la age 65', 'obama delay iran missil sanction', '2 kill manhunt underway tel aviv', 'watch last night\\x83 tv host get wast', 'man attack french soldier mosqu', '4 dead shoot near lo angel', 'clinton rais 37m fourth quarter', 'trump use jihadist recruit vid', 'goodby natali cole soul diva fighter queen', 'bar warhol made merri new york\\x83 coolest art hangout', 'best breslin harlem riot', 'orson welles\\x83 forgotten masterpiec', 'america stand 2016', 'trump fdr common', 'insid tini polic state seven armi', 'illuminati stole mind soul bodi hiphop', 'conserv lost 2015', 'jail egypt sexi novel', 'aim low way make new year resolut work', 'star war islam forc nostalgia', 'famou paint got wrong name', 'america\\x83 polit parti tribe', 'russia love thousand wive turkish husband', 'saudi arabia execut muslim cleric', 'two troop dead indian base attack', 'german polic alert threat', 'french invent american music', 'peep tom ronald reagan mask seen', 'teen shot \\x83ding dong ditching\\x83', 'sander rais 33m last quarter', 'man arrest weapon stadium', 'polic kill man mistak phone gun', 'ukrain ban russian food import', 'saudi arabia isislik justic', 'iranian protest sack saudi embassi', 'bruce campbel tragedi \\x83ash vs evil dead\\x83', 'trump\\x83 new enforc buff hell', 'made \\x83make murderer\\x83 filmmak moira demo laura ricciardi pull back curtain', 'word stop use 2016', 'kid kate 2016 year ahead royal', 'forget margarita time mexican wine', 'liber new autocrat', 'star war \\x8390 throwback \\x83shadow empire\\x83 chang galaxi', 'make presidenti gumbo pecan pie', 'media bore radar clinton connect', 'trump like liberac', 'christian muslim jew love magic', 'insid colombia\\x83 new cocain explos', 'navajo blame epa inact suicid', 'dream jewel thiev', 'bisexu shut lgbt club', 'sex made commerci airlin pilot go blind', 'best column 2015', 'arm protestor seiz feder build', 'mayor kill one day take offic', 'woman accus chri brown batteri', 'donald trump respond jihadist video', '40 arrest saudi embassi attack', 'obama hold town hall gun violenc', 'poll white republican angriest', 'il consid recal chicago mayor', 'isi video show execut 5 spi', 'saudi arabia cut tie iran', 'hell ammon bundi oregon militia ringlead', 'magnitude68 quak hit northeast india', 'nh lawmak heckl hillari husband', 'romney confront jeb 2016 doubt', 'factcheck sunday show januari 3', 'saudi arabia set deadlin iran', '\\x83downton abbey\\x83 return brilliant gallop s6e1 recap', 'sf 49er sack head coach 1 season', 'iran american seek swap rezaian', 'pc polic propel donald trump', 'latino one group onto donald trump start', '\\x83the bachelor\\x83 full bum', 'ted cruz\\x83 laughabl libertarian pose', 'obama botch syria like botch libya', 'it\\x83 legal steal gay bar moscow', 'etern citi collaps crap', 'china assembl stealth jet fleet', 'hampton polic ignor femicid', 'khodorkovski russian multibillionair \\x83murderer\\x83', 'insid antigay church love kim davi ted cruz', 'antimuslim zealot bundy\\x83 oregon militia', 'rancher peac protest', 'john oliv give new year\\x83 resolut', 'china market halt 7 dive', 'zuckerberg plan build ai assist', '\\x83forc awakens\\x83 close \\x83avatar\\x83', 'takata email show \\x83bold\\x83 manipul', '170k sign \\x83make murderer\\x83 petit', 'hundr gi kid assault annual', 'us stock 450 china plung', 'kyrgyz deport scot fb peni joke', 'video show el faro\\x83 underwat grave', 'charli hebdo mark attack anniversari provoc cover', 'exhuckabe spokeswoman join cruz camp', 'hillari clinton alien may visit us', 'rand isi would back rubio bill', 'cruz oregon protest stand', 'san bernardino attack offic reopen', 'megyn kelli trump \\x83i cant wooed\\x83', 'whoopi goldberg want hear bill cosby\\x83 side stori', 'us file lawsuit volkswagen', 'bacon left vandal florida mosqu', 'oregon rancher seek clemenc obama', 'new york giant fire head coach', 'thank govern appeas wingnut oregon standoff', 'trump racist ad depict wrong countri', 'ga gov rescind ban syrian refuge', 'obama new gun rule constitut', 'countri singer craig strickland bodi found tornado', 'ami duggar cousin josh duggar \\x83fraud complet stranger\\x83', 'bail approv michael slager cop kill walter scott', 'famili woman cop kill sue chicago', 'illinoi governor would support rahm recal', 'gm invest 500m lyft', 'saudi start mideast crisi purpos', 'scandinavia increas border secur', 'gloria allr crash kardashian circus\\x83but', 'jaden smith skirt revolution\\x83and men join', 'oregon town sympathi militiamen', 'obama take last shot gun control', 'charger file reloc la', 'ciara future\\x83 babi drama black mother doubl standard', 'saudi envoy peac possibl syria', 'child shoot 2yearold georgia', '\\x83veteran trump\\x83 back bundi', 'confid ben carson show staten island donald trump', 'michael fassbend made steve job human', 'airbnb orgi refund polici', 'meal wheels\\x83but pot', 'china launch new hightech spi ship', 'surviv heroin epidem', 'muslim fire pray', 'thought lesbian viral video good idea', 'terrorist win year charli hebdo', 'hillari can\\x83t shake bill\\x83 affair', 'china\\x83 hidden protest', 'saudi churn jihad inc', 'oregon rancher \\x83heroes\\x83 accus child abus', 'rancher wont budg demand met', 'utah judg gay foster case retir', 'larri wilmor scorch \\x83motherfcker\\x83 bill cosbi', 'reviewjourn manag remov', 'tyga creepi predat attract underag girl', 'brit child isi video grandson', 'nra photo show pol strewn bullet', '11 children rescu swat standoff', 'us medevac rescu helicopt crash', 'fed cut power oregon protest', 'watch obama intro execut action gun', 'make murder juror frame', 'samuel l jackson make classic movi line \\x83colbert\\x83', 'teacher danc student make smile', 'iran unveil second underground missil', '1000 men coordin sexual assault', 'obama cri gun speech', 'vice report freed turkish prison', 'twitter consid 10k charact limit', 'middl east need turkey\\x83 get aircraft carrier', 'fed go look isi find child porn instead', 'steeli dan donald fagen arrest allegedli abus wife', 'man drown self wife sever head', 'councilman bar offic drug convict', '11yearold boy undergo mastectomi', 'british mp debat ban trump', 'west point get first femal cadet chief', 'cruz fundrais obama want gun', 'kendal jenner can\\x83t date taylor swift\\x83 ex harri styles\\x83that\\x83 like rule femin', 'ammon bundi suspend twitter', 'nikki haley deliv republican sotu respons', 'caitlyn jenner taught kim kardashian fame', 'camil cosbi win stay deposit', 'governor declar flint water emerg', 'top democrat steve israel retir 2017', 'trump cruz canadian birth precari gop', 'blame pakistani spi servic attack indian air forc base', 'obama\\x83 gun speech one age', 'colleg fire prof religi view', 'porn site deen made us chang polici', '\\x83quake\\x83 felt north korean nuke site', 'mlb zimmerman howard sue al jazeera', 'mtv\\x83 \\x83shannara chronicles\\x83 \\x83lotr\\x83 meet katniss everdeen millenni', 'christi hit back rubio attack', 'afghan war return blood shadow', 'surrog sue father triplet', 'berni sanders\\x83 dnc lawsuit one\\x83 heard', 'wive brought wildenstein art empir', 'fail walmart made la ram', 'secret hypocrit gay world isi', 'transvagin mesh stuff nightmar', 'exclus cia eye russian hacker \\x83blackout\\x83 attack', 'america\\x83 great free speech battleground', 'marco rubio 2004 cheap colleg undocu immigr', 'portland hippi plan \\x83peac concert\\x83 isiscontrol syria', 'ted cruz dad gop new mythic hero', 'hey nra republican stooli obama\\x83 tyrant', 'timelin gap san bernardino attack', 'thai polic hack death sentenc', 'bangladesh execut islamist leader', 'berni sander slam \\x83dumb\\x83 donald trump support obama\\x83 execut action gun', 'must old ride dicaprio', 'rubio blast obama n korea test', 'north korea claim hydrogen bomb test', 'nk devic may anoth abomb', 'bristol palin face 2nd custodi battl', '40 prepschool kid \\x83sexual abused\\x83', 'california ga well leak 85k ton methan', 'wegman recal 1000 pound chicken', 'wvu athlet held indec exposur', 'steven averi brother might done', 'motrhead surg billboard chart', 'chipotl crimin investig noroviru outbreak', 'ted cruz dismiss trump birther concern', 'ammon bundi receiv 530k feder loan', 'prosecutor much power', 'trump obama tear sincer', 'david bowi jazz way', 'alabama chief justic roy moor order samesex marriag ban', 'samuel l jackson call bs trump\\x83 golf game', 'white hous evid north korea bomb claim', '\\x83star wars\\x83 top alltim box offic', 'trump spox \\x83whiney\\x83 question cruz birthplac', 'news crew rob antirobberi confer', 'carson former manag trump win', 'princ georg attend first day school', 'cologn mayor blame victim', 'la wont file charg cosbi', 'cop arrest sandra bland indict', 'transcanada su us keyston xl reject', 'chipotle\\x83 health troubl turn crimin', 'date bore racist white guy', 'griffey piazza head hall fame', 'alabama chief justic screw 66 judg', 'mr chili man tear cosbi wall', 'us \\x83tactic surprised\\x83 north korean nuke', '\\x83american idol\\x83 premier good even kany west ruin', 'john mccain unsur cruz elig', 'china stock dive 7 trade suspend', 'buccan sack head coach lovi smith', 'exclus lawyer went rahm quash laquan mcdonald video', 'new year new food porn insan', 'new york citi went 17 hour without murder 2016', 'flail farleft labour leader jeremi corbyn tri purg', '\\x83babouche\\x83 realli 2016\\x83 \\x83it\\x83 shoe', 'presid obama isn\\x83t take people\\x83 guns\\x83but mayb', 'world\\x83 lead kabbalist guru billionair go jail', 'hollywood\\x83 favorit sham pet zoo', 'david cross resurrect \\x83todd margaret\\x83 futur \\x83arrest development\\x83', 'jennif lopez good silli \\x83shade blue\\x83', 'want fewer murder tax gun ammo', 'waco\\x83 lesson oregon militia standoff', 'cali ga leak prompt state emerg', 'jackpot roll 675m winner', 'biden regret run everi day', 'india actress win peopl choic award', '\\x83make murderer\\x83 defens attorney dean strang may repres steven averi', 'power vow unit n korea respons', '17 worker stuck ny salt mine', 'american charg bomb us base', 'iran saudi arabia bomb embassi', 'pari attack foil hebdo anniversari', '2015 2ndhottest us year record', '1000 fake life jacket seiz turkey', 'watch cnn obama\\x83 \\x83gun america\\x83 town hall live stream onlin', 'report stab tri stabproof vest', 'trump want 45 percent tariff china', 'air forc sniffer jet may probe north korea', 'nypd cop \\x83punished\\x83 racial profil enough', 'jimmi kimmel get american congratul north korea', 'alabama judg defi roy moor gay marriag ban', 'rahm order third parti examin chicago polic', 'ferrel announc coowner new ml team', 'dan auerbach\\x83 arc releas song inspir \\x83make murderer\\x83', 'missouri bill defin lobbyistlawmak sex \\x83gift\\x83', 'nypd reform muslim surveil', 'us dietari guidelin cut sugar', 'fda ban chemic found pizza box', 'jennif lawrenc you\\x83r skinni deal', 'libertarian candid gari johnson actual wouldnt ban burqa', 'decemberist frontman gleefulli troll oregon militia erot tale', 'libertarian candid gari johnson actual wouldnt ban burqa', 'carson gop recruit speaker', 'main gov racist rant drug problem', 'bill clinton sex scandal move', 'obama gun reform candid', 'obama blast nra miss town hall', 'us marshal raid ce hoverboard booth', 'fed arrest 2 refuge terror charg', 'chan tatum channel beyonc \\x83lip sync battle\\x83\\x83with help beyonc', 'beyonc perform super bowl halftim', 'laquan mcdonald attorney cop shut wit kill', 'gael garca bernal trump\\x83 hate speech \\x83genesi genocide\\x83', 'veteran let slip mask war art therapi eas ptsd', 'can\\x83t stay silent germany\\x83 mass sex assault', 'fbi ignor dylann roof\\x83 hate group', 'real threat trump pose hillary\\x83and us', 'queen dem face palac coup', 'ethan 8 look great makeup matter hater say', 'donald trump brave socialist paradise\\x83berni sanders\\x83 hometown', 'cellphon won\\x83t ruin parent', 'golden globe oscars\\x83 drunk corrupt cousin', 'collaps kardashian economi', 'cnn\\x83 \\x83gun america\\x83 town hall like wwf match', 'gun don\\x83t talk', 'obama birther want ted cruz\\x83 head', 'tech ceo tap fight radic', 'shkreli use etrad account bail', 'natali dormer teas \\x83game thrones\\x83 season 6 talk femin take lead', '70 earthquak rattl oklahoma week', 'isi fighter execut mother', 'pari attackers\\x83 hideout uncov', '31 immigr quizz german attack', 'us ad strong 292k job decemb', 'suspect shot offic name islam', 'miss us missil found cuba', 'parent overdos babi hospit room', 'mi citi heroin kill car crash 2015', 'volkswagen wont hand doc us investig', 'poland seiz control public media', 'germani latest call trump ban', 'secret servic foil plot obama dog', 'kill mom isi', 'travel beaten path 2016', 'omalley may qualifi next dem debat', 'pregnanc test realli need bluetooth', 'stay issu freddi gray cop\\x83 testimoni', 'mexican presid caught el chapo', 'turkey\\x83 heartless merchant death kill refuge', 'gun allow texa psych hospit', 'tonya couch complain jail', 'obama veto bill would repeal aca', 'texa governor call constitut convent state', 'nypd cop punish eric garner death', 'chipotl su violat sec law', 'gangster shrimp boy convict 162 charg', 'video show el chapo captur', 'us stock see worst first week ever', 'obama leav seat empti sotu', 'report philli shooter went saudi arabia 2011', 'report lamar odom leav hospit', 'insid bloodi manhunt el chapo', 'christma eve depress day year', 'british ladi rebel founders\\x83 bff', 'mein kampf return germani', 'man made john travolta rememb robert stigwood', 'toxic richard dawkin', 'gun nut take aim trump', 'make netflix\\x83 global empir', 'netflix without border stream servic go global big deal', 'break bullingdon club omerta secret live men run britain', 'smell like vladimir putin', 'get tough drone peopl die', 'golden globe forecast ami schumer beat bff jennif lawrenc', 'lena dunham pitch hillari women listen', 'i\\x83m proud gay \\x83slut\\x83', 'rememb hero nap el chapo', 'lie reign suprem 2015', 'el chapo sent back prison', 'muslim woman eject trump ralli', '200 church choir singer abus', 'exanalyst dh ignor wingnut threat', 'rep navi sec greater threat isi', 'germani may toughen law migrant', 'cologn cop 379 nye case report', 'powerbal reach record 900 million', 'possibl arson walter scott cop home', 'pope benedict xvi\\x83 brother run sadist sex camp choirboy', 'american woman found strangl itali', 'sean penn met el chapo', 'mexico knew pennchapo meet', '\\x83make murderer\\x83 meet men steven averi think may kill teresa halbach', 'rise dork action hero chri pratt john krasinski schwarzenegg stallon', 'russian ukrainian peopl', 'media root gop chao', 'princ george\\x83 normal school except royal', 'sarah vowell\\x83 rough guid us histori', 'moma flaunt picasso\\x83 sexi fullbodi sculptur', 'make millard filmor spici pickl egg', 'el chapo\\x83 10000 demon son', 'tom stoppard want like verdi', 'mom hospit need know', 'whiskey industri hacked\\x83', 'hey suprem court pleas settl ted cruz birther thing', 'expert blame obama north korea nuke', 'fall love stripper', 'haut hijab dolc gabbana coutur line unwrap anger side', 'putin\\x83 media chief readi snitch drop dead', 'motorhead diehard toast lemmi sunset strip', 'indian teen gangrap left well', 'protest set fire kosovo govern', 'utah reopen cop shoot case', 'us fli b52 bomber korea', 'swedish shop center evacu', 'watch 2016 golden globe red carpet live stream onlin', 'woman rape five men brooklyn', 'gifford endors hillari clinton', 'watch 2016 golden globe live stream onlin', 'watch 2016 golden globe live stream onlin', 'russian patient die doctor beat', 'watch 2016 golden globe red carpet live stream onlin', 'polic took el chapo sex motel', 'meet kate del castillo actress brought sean penn el chapo', 'requiem union boss america', 'paul ryan save gop', '\\x83star war top box offic 4th week', 'parent turn teen suspect rape', 'michigan gov send water flint', 'ricki gervais\\x83 viciou golden globe monologu mock sean penn jlaw caitlyn jenner', 'mozart jungl win golden globe', 'trump call nfl soft like countri', 'jennif lawrenc ami schumer win golden globe heart', 'peril \\x83downton abbey\\x83 babi s6e2 recap', '\\x83silent protest muslim woman\\x83 trump ralli wasn\\x83t alon', 'polic tip group harm cop', 'ricki gervai said mel gibson golden globe', 'factcheck sunday show januari 10', 'behind scene oregon ammon bundi preach revolut', 'white supremacist robocal trump', 'what\\x83 realli behind saudiiran clash', 'climat chang book gop need read', 'us can\\x83t make magazin like isi', 'colleg mandatori fit track devic', 'china could crash global economi', 'sean penn\\x83 nave encount \\x83dr death\\x83 outer space', 'suprem court bust union', '\\x83bordertown\\x83 turn immigr debat crude stupid fun', 'win lose alabama\\x83 greatest export colleg footbal', 'thank trend donald trump', 'bunni ranch \\x83pimpmast general\\x83 want senat seat', 'russia arm hezbollah say two group\\x83 field command', 'el chapo extradit process begin', '12 shock golden globe moment ricki gervai mozart jungl', 'david bowi dead 69', 'david bowi dead 69', 'david bowi die cancer battl', 'aid convoy head besieg syrian town', 'tilda swinton david bowi \\x83look like someon planet did\\x83', 'david bowi take place among star', 'david bowi provocateur weirdo innov geniu', '\\x83u spy\\x83 arrest north korea', 'mob attack immigr cologn', 'tourist bitten kiss snake', 'trump\\x83 candidaci hurt compani', 'aid convoy enter starv syrian town', 'chri hugh sell new republ', 'make david bowi style icon', 'cop choke man death indict', 'ringl eleph retir earli', 'berni sanders\\x83 million rais san money men', 'video show firefight el chapo', 'sweden probe sex assault migrant', 'lapd chief want killer cop charg', 'david bowi sexual liber us', 'hillari clinton talk gun kim kardashian \\x83snl\\x83 ellen degener', 'fbi probe hillari email corrupt', 'att bring back unlimit data plan', 'detroit sickout close school', 'play young han solo 5 better choic disney\\x83 shortlist', 'affluenza mom bail reduc 75k', 'el chapo want write memoir', 'turkey offer work permit syrian', 'end \\x83the new republic\\x83', 'rand paul wont primetim debat', 'real life superwoman lift car save dad', 'watch colleg footbal championship game live onlin', 'alabama face clemson championship', 'white power parti swear loyalti \\x83president\\x83 trump', 'report rupert murdoch engag', 'cosbi lawyer call dismiss charg', 'hillari want end immigr raid', 'biden obama offer financi support', 'centrist group honor trump', 'donald trump drop shtick turn dignifi jimmi fallon', 'us nuclear piss match north korea', 'state union drama', 'wingnut plot rewrit constitut', 'carcass citi isi left behind', 'barack obama\\x83 huge year eight challeng', 'won\\x83t mike lee endors bff ted cruz', 'russian airstrik help us alli', 'mom dad heroin addict', 'night world\\x83 first bionic peni', 'fight back reveng porn', 'heard \\x83affluenza teen\\x83 ethan couch kill daughter', 'david bowi predict come kany west', 'jimmi fallon conan o\\x83brien say goodby david bowi', 'book koch dad build nazi oil refineri', 'zack snyder \\x83justic league\\x83 film explor \\x83the mythology\\x83 doomsday', 'affluenza mom post reduc bond', 'explos rock central istanbul', 'race david bowi delv deep dark came back human', 'north korean missil footag fake', 'watch 2016 state union address live stream onlin', '1st imag pari suspect run', 'rupert murdoch jerri hall engag \\x83not surprising\\x83', 'philli newspap given nonprofit', 'scotu fl death penalti unconstitut', 'carter guinea worm nearli erad', 'powerbal jackpot hit record 15b', 'polic boy 3 rape asylum center', 'new target isi tourist', '5th suspect held brooklyn gang rape', '\\x83eat pray love\\x83 stori end murder', 'lawyer bergdahl deserv purpl heart', 'freddi gray trial might start summer', 'ricki gervai defend golden globe joke call offend \\x83whiney cunts\\x83', 'oil price lowest 12 year', 'team obama brag \\x83ended\\x83 two war don\\x83t count dead troop', 'hillari deport kid mani', 'two navi boat iranian custodi', 'steven averi file appeal', 'make murderer\\x83 christian rap anthem', 'angi bowie\\x83 grief realiti tv \\x83her decision\\x83', 'insid sesam street\\x83 hbo makeov', 'watch state union live', 'ram charger may share stadium', 'new york villag keep racist sign', 'gop court lgbt vote ridicul snapchat campaign', 'rep didnt know kim davi invit', 'detain us navi sailor spend least day iranian custodi', 'rubio cruz citizenship issu settl', 'obama state union strong', 'obama call biden find cancer cure', 'haley trump \\x83turn volume\\x83\\x9d', 'obama state union isnt trump', 'mexico probe penn del castillo', 'royal rise middleton', 'gun issu even nra won\\x83t touch', '\\x83younger\\x83 becam \\x83sex city\\x83 replac crave', '\\x83bojack horseman\\x83 creator raphael bobwaksberg preview \\x83punni punishing\\x83 third season', 'foster kids\\x83 sad \\x83cockfight\\x83 goe viral', 'troll target dead celebr', 'spend 577 million tax powerbal loot', 'brooklyn\\x83 weed doc quack', '2016 oscar nomin predict jennif lawrenc get snub', 'confess accus cop killer', 'deadli blast near pakistan polio center', 'iran dismiss prompt releas sailor', 'korea fire warn shot north', '\\x83make murderer\\x83 steven averi claim juri taint', 'presid obama take trump tribal', '\\x83make murderer\\x83 defens attorney dean strang make america great', 'massachusett kill draftk', 'iran releas \\x83trespassing\\x83 us sailor', 'us sailor releas iran wont stop take hostag', 'isi burn fighter aliv', 'cop arrest suspect istanbul bomb', 'istanbul bomber regist refuge', 'cruz lead trump iowa shrink', 'mi call nation guard aid flint', 'australia blow beach whale', 'oregon occupi announc departur', 'us track luxuri real estat buyer', 'florida whoop cough outbreak fuel antivaxx', 'jimmi kimmel help xfiles\\x83 mulder sculli enter 21st centuri', '\\x83friends\\x83 reunion come next month', 'chicago pd street stop 80', 'iran show us sailor apolog biden kerri make nice', 'student miss french avalanch', 'khlo kardashian tell howard stern \\x83humiliating\\x83 marriag lamar odom', 'khlo kardashian tell howard stern \\x83humiliating\\x83 marriag lamar odom', 'al jazeera america shut', 'theater shooter inspir dylann roof', 'watch insan \\x83celebr big brother\\x83 row david bowi', 'gop\\x83 civil war get even fun', 'cop collar kiddi slave mom may', 'cruz disclos 2012 goldman loan', 'ted cruz bash goldman sachs\\x83aft take money', '\\x83make murderer\\x83 steven avery\\x83 exfianc claim \\x83behind close door he\\x83 monster\\x83', 'ted cruz eager phil robertson\\x83 endors', 'trump reject white nationalist support', 'casualti report 6 jakarta blast', '3 american kill hondura bu crash', 'mom\\x83 peacemak son\\x83 \\x83killer\\x83', 'varsiti basketbal player rape teammat school let team keep play', 'gop deadend fight stay antigay', '\\x8313 hours\\x83 porn conspiraci theorist', 'face vote hillari clinton vote war', 'sorri vegetarian there\\x83 cauliflow shortag', 'theyr murder mayor mexico', 'foster parent sue tote gun tot', 'oxford univers student grow hell', 'putin 300 billion brain fart', '\\x83war peace\\x83 goe \\x83game thrones\\x83 new bbc adapt', 'pippa middleton love', 'win powerbal ticket sold calif', 'jimmi fallon bob dylan nail drake\\x83 \\x83hotlin bling\\x83', 'adel rap nicki minaj sing spice girl epic carpool karaok session', 'rand paul hold drunken \\x83daili show\\x83 debat fail make fox busi lineup', 'indonesia twitter afraid', 'movi hillari clinton doesn\\x83t want see', 'jakarta attack dutch un worker injur', 'turkey car bomb kill 6 polic hq', 'group decri dark money use shadowi money', 'liberia declar free ebola', 'bowi cremat without famili present', 'bill maher must stop \\x83evil\\x83 ted cruz it\\x83 late', 'seb coe \\x83must known\\x83 track dope', 'declar ebola outbreak', 'alan rickman dead 69', '\\x83revenant\\x83 lead 12 oscar nomin', 'jakarta pari san bernardino age \\x83maraud terrorist firearm attacks\\x83', '3 men guilti record diamond heist', 'anoth allwhit oscar bullshit', 'alan rickman voic could move mountain', 'fewest prison gitmo sinc 2002', 'ashley olsen\\x83 murder itali hookup gone wrong', 'poll hillari bare lead berni iowa', 'carson financ chair resign', 'state hold gi kid medic pot', 'happen flint\\x83 leadpoison children', 'nightli show\\x83 larri wilmor predict allwhit oscar', 'truli madli deepli alan rickman', 'plan parenthood sue video maker', 'plan parenthood right sue shadi \\x83tissue\\x83 video', 'olymp skier say dad attack', 'tween trump cheerlead sing \\x83deal strength get crushed\\x83', 'cop bust uk\\x83 biggest heist', 'celin dion husband die', 'huckabe push gun zone lie debat', 'trump get boo go birther cruz', 'video releas chicago cop shoot', 'trump cruz exchang shot gop debat', 'obama halt new coal mine leas', 'cruz roommat joke kill', 'ted cruz accident prove donald trump human', 'face it\\x83it\\x83 twoman race gop nomin', 'air forc account jare hager handl', 'broadway star entrepreneur jenni dare paulin\\x83 next act chang world', 'pastor drive flock beat two teen death', 'hillari readi trump \\x83showdown\\x83', 'first januari hurrican sinc 1938', '\\x83her story\\x83 authent look tran life', 'state depart cave hillari clinton\\x83 lawyer classifi email', 'wit expos ronald reagan\\x83 dirti secret guatemala', '911 widow invit ted cruz ground zero see \\x83new york values\\x83', 'obama turn special op salvag legaci', '\\x83sesam street\\x83 get gentrifi keep charm', 'pamela de barr ultim rock groupi tell', 'ted cruz donald trump it\\x83 war', '3 suspect arrest jakarta attack', 'stephen colbert trump\\x83 ted cruz birther \\x83horsesht\\x83', 'hillari donald trump obsess', 'surreal republican debat scorecard', 'matthew perri skip friend reunion', 'alshabab attack somalia armi base', 'boozi bloodi downfal nick carter america\\x83 sexiest backstreet boy', 'teacher charg deadli avalanch', 'armi ignor anthrax laps 10 year', 'penn el chapo \\x83mi articl failed\\x83', 'pot painkil trial leav man coma', '12 marin miss chopper collid', 'new york daili news ted cruz \\x83drop dead\\x83', 'walmart close 269 store 154 us', 'mo def arrest south africa', 'watch ethiopian kid cover nirvana', 'video show offic lie shoot', '\\x83grizzli adams\\x83 star dan haggerti die', 'chipotl close food safeti talk', 'daili show edit \\x83straight outta compton\\x83 \\x83straight outta cotton\\x83 oscarfriendli', '8 injur suspici substanc us hous', 'german citi ban migrant pool', 'doctor arrest 36 patient die', 'mlb team hire spanish translat', 'ri offici quit fake photoop', 'ashley olsen didn\\x83t deserv die matter hard parti', 'obama answer dog pant question', 'us market see anoth horribl week', 'nation guardsmen admit sell stolen gun', 'muslim student frame bomb threat', 'first bundi oregon militia member arrest', 'pentagon punish personnel kunduz', 'ted cruz also fail disclos citibank loan', 'ted cruz issu nonapolog \\x83new york values\\x83 comment', 'episcopalian hold fast gay marriag', 'birther lawsuit derail ted cruz', 'pleas someon sue ted cruz hurri', 'abc produc found dead beliz', 'al qaeda attack hotel burkina faso', 'queen\\x83 grandson organ birthday\\x83and cash', 'graham snub rubio immigr \\x83cut run\\x83', 'add taiwan list china\\x83 big problem', 'bill maher blast \\x83bloodthirsty\\x83 gop launch campaign get obama show', 'play playboy mansion', 'whiskey cure common cold', 'man surviv hiroshima nagasaki', 'man brought us trex', '\\x83new york values\\x83 walk tour ted cruz', 'hey hillari end cold war media', 'interview david bowi', 'stack eddi murphy\\x83 gild road ruin', 'black america\\x83 underground guid escap jim crow south', 'behind dirti sexi saga spanish crown', 'coddl infant claim colleg victori', 'crook ceo blew 500000 psychic', 'young hollywood\\x83 public come', 'sieg burkina faso hotel', 'olivia munn\\x83 valuabl advic jon stewart', 'taiwan elect first femal presid', 'fbi arrest alleg scream robber', 'report wapo journo jason rezaian freed', 'iran reportedli free us journalist jason rezaian three other', 'zika viru caus babi brain damag', 'australian kidnap burkina faso', 'el chapo use child shield', 'archdioces releas name abus', 'panda cub bei bei make public debut', 'femal jihadist attack hotel', 'us give iran prison swap', 'two va men arrest terror charg', 'obama declar state emerg mi', 'meek mill fire back drake diss track five month get buri', 'arizona beat packer wild ot game', 'oscars\\x83 racist refus honor modern black hero', 'david bowi rock \\x83n\\x83 roll\\x83 statutori rape problem', 'brain trump', 'hollywood goe fullon devil worship', 'derek ridger captur club freak london', 'anglican demot episcopalian global christian get polar', 'bernie\\x83 isi strategi disast', 'vladimir putin russia\\x83 marlo stanfield', 'sex abus gay convers therapi dark past justin bieber\\x83 megachurch hillsong', 'reveal mari antoinette\\x83 scandal secret letter lover', 'bodi sleep depriv', 'wanna buy fake leg', 'law order ruin american justic', 'pleas someon sue ted cruz hurri', 'nfl safeti polici trumpworthi bs', 'indiana\\x83 shame tran bathroom bill \\x83', 'snl torch ted cruz \\x83new york values\\x83 comment', 'snl\\x83 hilari kylo ren \\x83undercov boss\\x83 star war parodi', 'celin dion brother die', 'sander chang tune gun immun', 'rouhani thrill sanction lift', 'trump call cruz \\x83nasti guy\\x83', 'us impos new sanction iran', 'isi abduct 400 syria', '6 volunt miss search child', 'presid pierce\\x83 spici mexican chees dip', 'bowi last album debut 1', 'three american kidnap baghdad', 'austria suspend open border agreement', 'factcheck sunday show januari 17', '3 american reportedli kidnap iraq', 'sander unveil healthcar plan', '2 dead tornado tear florida', 'report alleg matchfix tenni', 'richest 1 wealthier rest world', 'marri \\x83downton abbey\\x83 guest honor wizard oz', 'peril black \\x83housewives\\x83 potomac', 'clinton sander spar gun control', 'berni call hillari \\x83disingenuous\\x83 gun', 'mad max win critic choic award', 'futur troll seahawk qb russel wilson surpris mixtap \\x83purpl reign\\x83', 'rnc prep \\x83chaos\\x83 convent', '\\x83mein kampf\\x83 mustread', 'africanamerican need wake danger alzheimer\\x83', 'reign terror jew franc', 'forgotten aid crisi russia', 'obama coalit outlast obama', 'hey berniebro quit whine', 'flint forgotten poison', 'get whip fourth juli', 'prohibit doc prescrib booz', 'cosby\\x83 lawyer beat cosby\\x83 prosecutor ident rape case', 'shorter democrat debat', 'spacex rocket explod land', 'berni sander vs hillari clinton oh it\\x83', 'georg miller epic \\x83mad max\\x83 odyssey turn \\x83man steel 2\\x83', 'n korea drop 1m propaganda leaflet', 'three american miss iraq', 'chelsea handler can\\x83t sit indianstyl anymor', 'american civilian miss iraq fals sens secur', 'cop arrest algerian sexual assault', 'uk may deport femal muslim immigr', 'man link pari attack arrest', 'german town reopen pool migrant', 'oh univers pay death dubos', 'uk parliament debat ban trump', 'man beaten teen yell isi', 'american pie singer arrest', 'spike lee boycott oscar', 'freed american reunit famili', 'oh man allegedli target kill cop', 'putin know attack dog', 'doctor allegedli kept woman bunker', 'muslim politician call poison corros trump ban uk', 'exclus pentagon may demot david petraeu', 'martin luther king jr dream still unmet', 'eagl guitarist glenn frey die 67', 'trump pledg make god great', 'jealou ex stab 2 star athlet death', 'rnc pull nbc debat tap cnn', 'exboyfriend stab kill 2 ny student', 'protest block sf bay bridg', 'academi address lack divers', 'daili show\\x83 trevor noah \\x83never impressed\\x83 donald trump', 'furiou gop yank nbc sponsorship februari debat', 'ground zero robot air war', 'cia\\x83 syria program peril proxi', 'team berni court grandpar vote', 'fashion fairytal moment', 'work class peopl nfl screw st loui', 'key iran\\x83 missil china north korea', 'kill chicago miss', 'alleg isi fan kill neighbor', 'ammon bundi gang must go jail', 'much coffe much', 'erin brockovich back fight flint', 'ted cruz brilliant strategi suck', 'scienc memori seduc joyc carol oat', 'china gdp growth slowest 25 year', 'aunt viv drag smith jada pinkett smith oscar boycott', 'traci morgan roast trump \\x83star wars\\x83 teas return tv \\x83fallon\\x83', '3 raft found search 12 marin', 'deadli blast pakistan peshawar', 'pakistan lift ban youtub', 'mlknow hollywood\\x83 poignant martin luther king day tribut featur chri rock', '\\x83war peace\\x83 incest fruitsmash sex style spare', 'univis bought onion', '100 type bug hous', '19k iraqi civilian dead isi battl', 'navi seal turn photo bin laden', 'world oldest man die 112', 'avery\\x83 ex tie', 'exec arrest auschwitz school trip pricefix', 'senat candid refus rais money still think win', 'scotu weigh obama immigr order', 'angi bowi leav big brother hous', 'human right campaign endors hillari clinton', 'mi5 uk gayfriendli employ', 'video take five planet one time', 'st paul cop \\x83run over\\x83 black live matter protest', 'john wayn daughter endors trump', 'trump wont comment flint crisi', 'deray mckesson give stephen colbert lesson blacklivesmatt white privileg', 'ig hillari home server secret intel', '10 grad think judg judi scotu', 'carson suspend campaign day', 'david bowi reject coldplay collabor', 'gop lawmak regist journalist', 'isi confirm jihadi john dead', 'sarah palin offici endors trump', 'whoopi goldberg oscar boycott \\x83slap face\\x83 chri rock', 'disney say ye queer charact', 'track palin charg assault', 'secret escobar\\x83 demolish home', 'gop lawmak quizz teen virgin', 'former nfl star regret play', 'what\\x83 behind nutti law regist journalist', 'john wayn enterpris fan trump', 'sarah palin back donald trump murder ironi', 'carson campaign volunt die', 'fbi probe kent state prof isi link', 'nuke test didnt improv n korea tech', 'mi gov water crisi \\x83i let down\\x83', 'bad breakfast food rank 10 popular item', 'shadi church sexabus shell game', 'end ami schumer jennif lawrenc lovein', '\\x83mystery\\x83 hong kong\\x83 disappear booksel', 'doctor thought like antivaxx', '\\x83i sens relief\\x83 livestream abort stori', 'unfuzzi math it\\x83 still hillari clinton\\x83 race lose', 'denmark bounc migrant nightclub', 'cathol hospit block basic form contracept', 'good luck mission \\x83quit\\x83 twitter', 'prosecutor dad kill 3yearold son keep 17yearold girlfriend happi', 'conserv radio donald trump like ted cruz lose', '\\x83seaman superman\\x83 say cruis line fire save passengers\\x83 live', 'fairi tale \\x83black sails\\x83 expos gritti world pirat thought knew', 'meet robot write \\x83friends\\x83 sequel', 'activist call end refug occup', 'nielsen use facebook rate', 'gunmen open fire pakistan univers', 'iraq oldest christian monasteri raze', 'ted cruz get poop triumph insult comic dog new hampshir', '3 american taken iranback militia', 'record gun buy jam background check', 'william shatner 50 year \\x83star trek\\x83 pass david bowi pal leonard nimoy', 'exxon mobil probe climat \\x83lies\\x83', 'shkreli fire entir defens team', 'fix racist oscars\\x83and hollywood', 'r kelli doubt cosbi rape alleg', 'lena privat doubt hrc feminist cred', 'bowi us sale increas 5000', 'grace coddington step vogu', 'plastic outweigh ocean fish 2050', 'astronom find possibl \\x83planet nine\\x83', 'palin goe awol trump campaign', 'kent state professor post isi pictur facebook', 'east coast storm may drop 2 feet snow', 'east coast storm may drop 2 feet snow', '2015 hottest year record histori', 'msnbc\\x83 mika brzezinski slam debbi wasserman schultz screw', 'stacey dash\\x83 solut oscarssowhit get rid bet black histori month', 'er doc accus abus 2 patient', 'bowi fan kany tribut album', 'palin blame son domest violenc obama', 'larri wilmor call evangel \\x83smite down\\x83 donald trump', 'gawker sell share pay hulk hogan case', 'man turn self alleg isi pledg', 'tamir rice grand juri never vote charg', 'hiphop lost mo def yasiin bey announc retir final album', 'gawker hit anoth lawsuit\\x83thi time journalist', '\\x83star war episod viii\\x83 releas date push back', 'martin shkreli subpoena testifi us hous', 'grace coddington\\x83 independ day \\x83vogue\\x83 star goe way', 'student slaughter pakistan university\\x83but', 'euthanasia ny shelter reform', 'bob dole prefer trump cruz', 'iran can\\x83t find american hostag us offici say', 'bill hire first fulltim femal coach', 'excop convict rape seek new trial', 'shkreli plead 5th senat inquiri', 'gov call fed act arm group', 'citizen unit gave us berni sander donald trump', 'sarah palin bad america great comedi', 'cours donald trump ted cruz birther', '21yearold funer singer south chicago afraid she\\x83ll next', 'booki go big donald trump even bigger hillari clinton', 'black live matter rain rahm emanuel\\x83 dc parad', 'marco rubio want take prostitutes\\x83 cash', 'gay right letdown', 'oxford univers remov cecil rhode statu', 'here\\x83 terrorist recruit africa\\x83 children', 'die child slave made phone batteri', 'david cameron get right terror', 'chelsea handler \\x83you bitch wonderful\\x83', 'us unveil new european visa rule', 'john legend sing detain immigr', 'stephen colbert unload sarah palin \\x83nobodi compar origin materi girl\\x83', 'affluenza teen back us week', 'affluenza teen back us week', 'affluenza teen back us week', 'alexand litvinenko kill call putin pedophile\\x83', 'fred armisen sex sketch grow', 'spi \\x83murdered\\x83 putin pedophil claim', 'hoverboard need fire extinguish', 'korean follow north korea twitter', 'inch snow grind dc halt', 'mike tyson i\\x83m muslim donald trump', 'cruz\\x83 rise fuel iowa gop famili feud', 'email offici scof flint fear', 'gitmo forev prison clear name', 'tajikistan cop shave 13000 beard', 'sarah palin pac fundrais trump endors', 'boy 15 probe dh say \\x83isis\\x83', 'smith join oscar boycott', 'listen david bowi imperson springsteen lou reed iggi pop other', 'ceo admit bribe un offici', 'petco supplier froze anim death', 'el niño may pull cali drought', 'stephani rader heroic us spi dawn cold war die age 100', 'fiorina \\x83ambushes\\x83 preschool abort', 'fbi reportedli ran child porn websit', 'serial rapist cop daniel holtzclaw get 263 year', 'serial rapist cop daniel holtzclaw get 263 year', 'white hous palin ptsd joke', 'dc metro shut weekend', 'ntsb push lower blood alcohol limit', 'cdc bizarr birth defect rise', 'exclus us admit bomb 29 civilian isi war', 'convict killer rudi gued \\x83i\\x83m 101 certain amanda knox there\\x83', 'dr phil hold staff hostag', 'michigan epa leader quit', 'cop allegedli use \\x83famili guy\\x83 foreplay rape teen rel', 'statesponsor child abus neglect flint', 'zach galifianakis\\x83 \\x83baskets\\x83 weirdest show\\x83 ever', 'berni sanders\\x83 real beef lgbt \\x83establishment\\x83', '\\x83outsiders\\x83 show predict oregon\\x83 bundi militia', 'marco rubio come second fallon', 'damn millenni don\\x83t get social', 'carol middleton ultim helicopt mom', 'celin dion bid farewel husband \\x83state funeral\\x83', 'cop see gun aren\\x83t', 'ami schumer realli joke thief', 'america declin dinner date jeb bush', 'faculti fight fire \\x83heretic\\x83 prof', 'arab gangster israel', 'sextraffick victim next door', '\\x83duck dynasty\\x83 famili split trump vs cruz', '20 dead somali restaur attack', 'conserv writer unit antitrump manifesto', 'anatomi oscar boycott smith other take stand', 'top republican cash like democrat', 'north korea arrest american student', '12 miss marin declar dead', 'tsa 20 carryon gun 2015', 'gillian anderson offer half duchovny\\x83 pay \\x83the xfiles\\x83 reviv', '45k flight cancel ahead blizzard', 'assassin suspect uk proof', 'bill johnson us downhil champ dead 55', 'rampl oscar feud \\x83racist whites\\x83', 'rnc disinvit nation review debat', 'excarson campaign manag advis trump', 'laquan cop given desk duti 14 month later', 'kansa halt 2ndtrimest abort ban', 'trump retweet nazi sympath', 'michael cain black actor \\x83be patient\\x83', 'christi ditch campaign trail snow', 'kansa court void pot ordin', 'ghostfac killah call martin shkreli releas wutang album', 'bill cosbi defam suit dismiss', '\\x83sticky\\x83 documentari dispel myth selflov', 'fake facebook news drive iraq\\x83 war', 'mysteri zika viru stump scientist', 'trevor noah keynot democrat retreat', 'academi pledg less white', 'straight outta compton\\x83 ice cube oscar boycott talk get \\x83ridiculous\\x83', 'cleveland cavali fire head coach', 'tunisia impos nationwid curfew', 'north korea want use us student bargain chip', 'britain warn alli russia\\x83 next assassin could street', 'two dead canadian school shoot', 'snowrel death begin mount', 'danish citi make pork mandatori', 'blizzard 2016 blame el niño', 'polic \\x83cash in\\x83 offshor gambl', 'daniel radcliff alan rickman empow', 'cdc listeria kill one hospit 11', '\\x83lebron fire coach\\x83 conspiraci', 'bill maher oscars\\x83 divers problem \\x83racist\\x83 asians\\x83 fault', 'stripper didn\\x83t need \\x83saved\\x83', 'kid robot boss', 'dri januari dumb bad', 'time jacki diss swifty\\x83', 'porn star \\x83feel bern\\x83', 'paranoid xfile help', 'can\\x83t part 40k guitar', 'armi want put brain', 'russia\\x83 gay could go jail kiss public', 'jade adult\\x83 guid drink around world epcot', 'pranc elit realiti tv star feel good love', 'mexico\\x83 secret narco museum', 'america\\x83 best jewel thief 85yearold woman', 'macklemor right iggi miley\\x83 racial tourism isn\\x83t', 'sundanc film festiv 2016\\x83 wtf movi', '8k flight cancel due snow', 'isra guard kill palestinian girl', 'three men escap california jail', 'bloomberg consid bid presid', 'snowstorm jona bring traffic halt', 'good samaritan shot snowbound driver', 'us may use militari solut syria', 'steven averi break silenc \\x83make murderer\\x83 \\x83the real killer still there\\x83', 'dc area see 30 snow', 'trump could murder lose vote', 'bloomberg win middl', 'de moin regist pick clinton rubio', 'black gay muslim target fbi', 'kgb\\x83 dumbest doubl agent', 'cherri top drink cabinet', 'dear atheist don\\x83t fear \\x83in god trust', 'jew silenc america\\x83 earliest antisemit', 'insid secret world britain\\x83 big hous billionair', 'wild world oppress studi', 'make presidenti venison tenderloin', 'smart bottl racket\\x83', 'italy\\x83 gay right showdown vatican', 'boilermak back hipster want beerandshot duo', 'could iran becom next dubai aviat superpow', 'armenian genocid shape holocaust', '\\x83the bee gee cure writer\\x83 block\\x83', 'sister kate vegan potlov feminist behind etsi cannabidiol shop', 'matt damon call michigan governor rick snyder resign flint water crisi', 'tina fey\\x83 sarah palin return snl endors trump gloriou', 'danni devito feel bern despis \\x83disgusting\\x83 donald trump', 'nick jona play rowdi frat boy \\x83i\\x83v sex drank lot\\x83', 'airlin axe monday flight poststorm', 'earthquak strike southern alaska', 'metal chunk wash ashor thailand', 'jeb prais mich governor crisi', 'el salvador pregnanc 2018', 'hong kong polic nab la murder suspect', 'anthoni weiner bloomberg could win', 'hous cancel vote due storm', 'charlott rampl regret oscar comment', 'berni mania real power', 'factcheck sunday show januari 24', 'pari attack appear new isi video', 'insid barack michel obama\\x83 steami first date', 'chicago tap advis polic reform', 'hillari need bloomberg run', '\\x83weiner\\x83 damag hillari clinton', 'exclus gov rick snyder\\x83 men origin reject use flint\\x83 toxic river', '29 dead blizzard buri east coast', 'panther bronco head super bowl 50', 'downton abbey\\x83 extrem polit class war season 6 episod 4 recap', 'manhunt underway 3 escap inmat', 'xfiles\\x83 chri carter defend premier talk muldersculli romanc', 'boston globe endors hillari clinton', 'break law legal defens', 'bloomberg bet hillari get indict', 'berni sanders\\x83 singlepay health care plan fail vermont', 'sarah palin\\x83 pac old money trick', 'liz lambert becam hippest hoteli texa', 'accus murder marri wit doesn\\x83t testifi', 'escap california inmat \\x83castrated\\x83 pot czar', 'reven win box offic', '\\x83crazi exgirlfriend\\x83 star rachel bloom tv need asian bro', '\\x83wise man\\x83 robert gate trash donald trump doubt obama\\x83 spunk', 'top exec leav twitter amid reshuffl', 'kerri seek clariti syria talk', 'bloomberg realli need decid go run', 'john krasinski critic politician exploit \\x8313 hours\\x83 \\x83i think it\\x83 pretti disgusting\\x83', 'sheriff give oregon militia', 'obama hillari face \\x83unfair scrutiny\\x83', 'zika viru expect hit us', 'princ william friend henri worsley die rais 150000 chariti', 'santorum conced campaign near end', 'rick perri endors ted cruz presid', 'antimedia mizzou professor charg protest', 'walter scott lawyer back berni', 'democrat iowa forum watch live stream onlin', 'father son die gun store shootout', 'scotu rule incentiv electr conserv', 'tran olympian compet san surgeri', 'scotu ban juvenil life sentenc retroact', 'tenn gop lawmak resign sexual harass', 'vladimir putin\\x83 exwif find new love', 'lawyer make like bandit fsu rape settlement', 'putin bash lenin soviet govern', 'cop allegedli eras video cover teen shoot', 'migrant teen stab kill refuge worker', 'black woman win \\x83the bachelor\\x83', 'chomski would total vote hillari', 'judg block ufc fight madison squar garden', 'vega drop chri brown batteri case', 'steeli dan singer assault charg drop', 'abort video maker charg solicit organ', 'charg murder elect jail', '\\x83snl\\x83 can\\x83t quit darrel hammond best donald trump imperson', 'banksy\\x83 art deadli polit weapon', 'shadi plan parenthood video creator charg purchas organ', 'trump threaten skip next gop debat', 'obama ban solitari juvenil', 'suit claim disney abus visa rule', 'mit professor ai pioneer die 88', 'voter hil your seen dishonest', 'wine doesn\\x83t cut bourbon pair far barbecu', '200 individu flavor identifi woodford reserv here\\x83', 'berni sander break hillari clinton\\x83 south carolina firewal', 'iran\\x83 holocaust cartoon competit', 'sanction gone iran goe huge european shop spree', 'olymp final embrac tran athlet', '\\x83life coaches\\x83 ran 20m ponzi scheme', 'scott walker zombi scam pac', 'trump elect republican realli', 'porn star fashion star colbi keller vivienn westwood sex money fight gay conservat', 'brother rape sister\\x83and mom told go polic', 'fire juggalo cop hoax', 'new york citi opera came back death', 'trump said bought window china america\\x83 expens', 'puppet master ruin ben carson\\x83 campaign', 'miley cyru cast woodi allen seri', 'china releas deport swedish activist', 'stephen colbert hammer rumsfeld iraq rise isi', 'conan o\\x83brien michel obama entertain troop qatar', 'malaysia debri found mh370', 'anderson cooper fabul mother came daili beast', 'obama want expand retir plan', 'john krasinski sorri \\x83office\\x83 fan jenna fischer \\x83genuin love\\x83', '25000 north korean kid starv', 'bikram founder lose sexharass case', 'militia sumo challeng chri christi', 'world wide web inventor tim bernersle free internet', 'christi fire storm respons', 'video defend tackl prosecutor', 'obama\\x83 juvenil solitari order cannot last', 'blake griffin hurt hand fight equip staff', 'autopsi us tourist grenada rape choke', 'jerri falwel jr endors trump', '100k memori princ william hero', 'activ shooter report sd naval medic center', 'main gov lepag bring back public hang', 'first american test posit zika viru', 'trump falwel make bromanc offici', '\\x83birth nation\\x83 film get biggest sundanc deal ever', 'amherst colleg drop coloni mascot', 'fox news vs donald trump round 2 chri wallac megyn kelli face insult ask tough question', 'abe vigoda die 94\\x83no hoax', 'six cleveland cop fire 137bullet barrag', 'fox news snark trump debat boycott threat', 'clipper publicli condemn blake griffin', 'fbi prevent mass mason templ shoot', 'john rocker endors donald trump embrac new york valu', 'christi order nj takeov atlant citi', 'time american worri zika viru', 'fox news announc iowa debat lineup', 'trump \\x83most likely\\x83 wont fox debat', 'iran\\x83 mysteri american prison claim fbi inform ooop', 'game promis 1m flint', 'abe vigoda fulfil internet meme', 'cruz want debat trump one one', 'ammon bundi arrest', '27yearold late giant safeti cte', 'michael moor applaud megyn kelli take donald trump', 'seattl polic respond shoot', 'blake griffin sorri distract', 'guard cook inmat death rush burn evid', '\\x83nativ american\\x83 church sue fed get pot back', 'pot capsul could end menstrual cramp', 'oscarssowhit lack divers histor doom oscar rate', 'yoga guru fine 1m sexual harass lawyer', 'trump voter realli exist parti botch iowa', 'hollywood\\x83 big gay problem money cowardli lack imagin', 'brave sikh man stood trump\\x83 muslim bash', 'matthew perri forgot three year \\x83friends\\x83', 'lewi black \\x83straight outta compton\\x83 oscarworthi \\x83mad max furi road\\x83', 'joe biden alreadi start war cancer', 'donald trump show fox news art tantrum', 'berni sander isn\\x83t elect here\\x83', 'christian cring donald trump\\x83 sexi past', 'fox respond trump debat boycott', 'obama meet berni sander', 'game donat 500k flint \\x83talk cheap\\x83', 'denmark confirm europ 1st zika case', 'french minist quit amid terror debat', 'joseph fienn michael jackson symptom hollywood\\x83 deepseat race problem', 'school princip die save student', '\\x83birth nation\\x83 sundance\\x83 recordbreak remedi oscarssowhit', 'trump can\\x83t call meygn kelli \\x83bimbo\\x83', 'china detain econom data chief', 'delorean manufactur', 'chipotl hit discrimin suit', 'trump 2011 megyn great debat noshow bad', 'new trend kill 2 us teen \\x83dewshine\\x83', 'microsoft cofound destroy coral reef', 'dc issu 1m blizzard park ticket', 'chicago polic damag dashcam hid mic', 'seth meyer defund \\x83plan bullsht\\x83 plan parenthood', 'militia get reinforc bundi get bust', 'liber love megyn kelli', 'insid upris moldova\\x83 donald trump', 'bob vs neil degrass tyson', 'carson slam \\x83dishonest\\x83 top advis', 'cop seen miss ar15', 'trump robert durst 2013 get anger', 'kany west publicli humili fellow rapper wiz khalifa', 'charg cop shot women dorner hunt', 'fraud suicid cop wife indict money launder', 'doj alabama polic chief beat arreste', 'duke suspend soror', 'fed bundi gang threaten burn offici home', 'trump announc iowa debat rival event', 'ammon bundi order stand', 'kany west amber rose\\x83 neverend soap opera', 'rihanna album \\x83anti\\x83 leak onlin', '5 arrest california jail escap', 'ferguson fed reach polic reform deal', 'obama take glove isi last', 'camilla parker bowl final becom \\x83duchess hearts\\x83', 'white supremacist want florida abort ban', 'want fri ident fraud', 'play trump porn\\x83one\\x83 vote donald one love hillari', 'plot terror govern', 'let\\x83 get seriou celebr butt', 'rememb oj simpson prank show call \\x83juiced\\x83', 'colleg goe full \\x83rosemary\\x83 baby\\x83', 'ted cruz\\x83 \\x83flat lie\\x83 immigr', 'daili show\\x83 trevor noah trump \\x83scared\\x83 megyn kelli', 'mccain top dem warn pentagon petraeu demot may illeg', 'louie anderson becam zach galifianakis\\x83 mom', 'sexual assault accus speak', 'donald trump want vet kick fifth avenu', 'aussi accus kangaroo bomb plot', '3 arrest oregon wildlif refug', 'cruz group donat trump debat', 'game drag stacey dash young thug', 'sudan open border south sudan', '\\x83the birth nation\\x83 meet nate parker revolutionari filmmak behind sundanc smash', 'sweden deport 80k refuge', 'richard linklat \\x83daze confused\\x83 sequel \\x83it\\x83 first weekend colleg movie\\x83', 'trump 2 other want skip fox', 'zika viru spread explos', 'serena close grand slam win record', 'castillo sean penn screw', 'mexico affluenza teen flight us', 'excon mayor buddi cianci dead 74', 'rihanna anti disappoint hit rihanna fail us', 'video deputi kick punch man head', 'michigan citi see lead flint', 'gunman quran arrest disneyland pari', '6 kill virginia murdersuicid', 'fox iowa gop debat time start watch live stream', 'navi intel admir cut secret', 'texa da \\x83i\\x83m prolif law law\\x83', 'berni sander releas health record', 'huckabe kidnap adel reviv die campaign', 'huckabe join trump debat rival event', 'neil degrass tyson drop mic flat earth truther bob', 'everybodi su jay z', 'scienc event drop richard dawkin antifeminist tweet', 'refuge crisi doom eu', 'gop rep kkk straighten peopl', 'berni staffer pose kitchen staff', 'trump\\x83 vet fund doesn\\x83t go vet', 'nobel prizewin texa professor gun welcom class', 'tv guid watch superbowl', 'circuit citi could return 2017', 'kool gang bail rnc convent celebr', 'don\\x83t make barbie\\x83 bodi crisi', 'trump\\x83 fox news sycoph can\\x83t quit', 'pentagon\\x83 progress revolut add matern leav', 'david bowi audit \\x83lord ring', 'meet antitrump colleg kid behind kany west super pac', 'jim gilmor win debat', 'trump like hillari vet', 'mike allen 4 other leav politico', 'obama weigh oscarssowhit divers \\x83make better art\\x83', 'trump domin twitter debat', 'fbi video show fatal oregon shoot', 'rubio cruz duke immigr', 'john kasich whiff poison water question', 'cruz rubio step trump absenc', 'london\\x83 billionair bubbl burst', 'need watch \\x83american crime\\x83', 'tale two twitter', 'evangel power broker behind ted cruz', 'nude perform artist troll perform art', 'there\\x83 cheap fix zika virus\\x83 ground zero', 'world\\x83 expens jet somehow get wors', 'iowa kingmak ok ted cruz\\x83 gay heresi', 'jj abram next scifi epic hollywood\\x83 divers problem', 'jefferson airplane\\x83 paul kantner die', 'meet movi obama former republican staffer exsoap star', 'japan introduc neg interest rate', 'obama want data worker pay', 'without trump it\\x83 reveng nerd', 'trump freakshow de moin overshadow debat', 'spanish princess face fraud trial', 'mechan suspect egypt plane crash', 'fox trump want 5m debat', 'hiv develop resist key drug', 'us british spi hack isra drone feed', 'gdp grew 07 end 2015', 'fox debat beat trump event rate', 'charney fail retak american apparel', 'chicago cop sue famili teen kill', 'eric garner daughter back berni sander', '\\x83esquire\\x83 eic oust 19 year', 'rubio overtak cruz', 'dad charg girl polic shoot', 'nfl player concuss 30 2015', 'stephen colbert make donald trump debat', 'affluenza teen remain juvenil detent', 'fox hil email damag publish', 'wound warrior project ad chariti navig \\x83watchlist\\x83', 'un syria peac talk begin san rebel', 'mississippi ag declar fantasi sport illeg', '\\x83straight outta compton\\x83 cast invit oscar', 'holi sht world realli hate donald trump', 'escap cali inmat surrend cop', 'moneybag pastor creflo dollar might get highway', 'us stock see worst januari sinc 2009', 'texa court rule bibl cheerlead', 'confirm \\x83gilmor girls\\x83 back', 'new york lawmak monitor journalists\\x83 email', 'charger stay san diego 2016', 'facebook ban gun sale site', 'tweet silenc richard dawkin', 'head glenn beck media empir quit blaze burn', 'could mold vegan meat', 'ky halt abort plan parenthood', 'holder biggest failur gun control', 'bill maher forget trump megyn kelli gop nomine presid', 'unbeliev racist world classic children\\x83 literatur', 'oscar nomine adam mckay fox news love \\x83the big short\\x83', '40 intrigu musician 2016', 'earth princ harri singl', 'tenni alway corrupt', 'bernie\\x83 past far far far left', 'russia beat us moon', 'gin becam meth 18th centuri england', 'donald trump\\x83 night le club roy cohn', 'dog cancer better yesterday', 'high time henderson\\x83 castl', 'sex citi date midlif crisi', 'underwat volcano shipwreck found mh370 search', 'spike lee defend michael jackson \\x83the legaci hijacked\\x83', 'insid skirt club allwomen sex take world', 'merkel migrant must go home', 'insid bernie\\x83 hippi iowa utopia outsid trump\\x83 commerci fortress', 'almost 40 migrant drown 75 rescu', 'thousand protest samesex civil union', 'mask mob threaten migrant children', 'dont kinksham kany', 'nyt endors hillari presid', 'punish petraeu', 'obama make first visit us mosqu', 'liz cheney run congress', 'sander clinton agre 4 debat', 'two escap cali inmat captur', 'cruz camp shame iowan caucus', 'cop probe johnni manziel incid', '1 dead motorcycl shoot', 'pastor trump claim endors pick hillari', 'iowa secretari state rip cruz mailer', 'trump hillari lead final iowa poll', 'trump clinton top final iowa poll', 'drake call obama meek mill kany west\\x83 smaller pool \\x83summer sixteen\\x83', 'british priest go lumbersexu', 'israel couldn\\x83t save prime minist rabin', 'baseball\\x83 first naughti hall famer', '\\x83desire\\x83 dylan\\x83 sloppiest masterpiec turn 40', 'godfath robots\\x83', 'world need gay mormon superhero', 'pari coutur wilder better', 'dian rehm living\\x83and dying\\x83with digniti', 'lie women tell sexual arous', 'young drug lord fight el chapo throne', 'instagram chang celeb crush', 'kind jew berni sander', 'make abraham lincoln beef cabbag', 'best sundanc 2016 \\x83the birth nation\\x83 viggo mortensen', 'mad geniu \\x83the ventur bros\\x83 tv\\x83 craziest cartoon', 'meek mill final beat drake viciou diss track \\x83war pain\\x83', 'seminari student want infant sex', 'djokov win 6th aussi titl', 'manziel involv \\x83assault\\x83 incid', 'dozen cartel member arrest', 'teen charg murder young girl', 'sorri state huckabe santorum', 'carson campaign meet alleg organ smuggler', 'isi attack syria peac talk', 'presid trump possibl terrifi', 'oral robert make student wear fitbit', 'iran give medal us sailor grab', 'immigr even harder', 'barclay credit suiss settl sec', '10k migrant children miss europ', 'trump staffer claim sex discrimin', 'evangel smite donald trump iowa', '5k new normal super bowl ticket']\n",
      "      07  10  100  1000  10000  100000  100k  101  10k  11     ...      zach  \\\n",
      "0      0   0    0     0      0       0     0    0    0   0     ...         0   \n",
      "1      0   0    0     0      0       0     0    0    0   0     ...         0   \n",
      "2      0   0    0     0      0       0     0    0    0   0     ...         0   \n",
      "3      0   0    0     0      0       0     0    0    0   0     ...         0   \n",
      "4      0   0    0     0      0       0     0    0    0   0     ...         0   \n",
      "5      0   0    0     0      0       0     0    0    0   0     ...         0   \n",
      "6      0   0    0     0      0       0     0    0    0   0     ...         0   \n",
      "7      0   0    0     0      0       0     0    0    0   0     ...         0   \n",
      "8      0   0    0     0      0       0     0    0    0   0     ...         0   \n",
      "9      0   0    0     0      0       0     0    0    0   0     ...         0   \n",
      "10     0   0    0     0      0       0     0    0    0   0     ...         0   \n",
      "11     0   0    0     0      0       0     0    0    0   0     ...         0   \n",
      "12     0   0    0     0      0       0     0    0    0   0     ...         0   \n",
      "13     0   0    0     0      0       0     0    0    0   0     ...         0   \n",
      "14     0   0    0     0      0       1     0    0    0   0     ...         0   \n",
      "15     0   0    0     0      0       0     0    0    0   0     ...         0   \n",
      "16     0   0    0     0      0       0     0    0    0   0     ...         0   \n",
      "17     0   0    0     0      0       0     0    0    0   0     ...         0   \n",
      "18     0   0    0     0      0       0     0    0    0   0     ...         0   \n",
      "19     0   0    0     0      0       0     0    0    0   0     ...         0   \n",
      "20     0   0    0     0      0       0     0    0    0   0     ...         0   \n",
      "21     0   0    0     0      0       0     0    0    0   0     ...         0   \n",
      "22     0   0    0     0      0       0     0    0    0   0     ...         0   \n",
      "23     0   0    0     0      0       0     0    0    0   0     ...         0   \n",
      "24     0   0    0     0      0       0     0    0    0   0     ...         0   \n",
      "25     0   0    0     0      0       0     0    0    0   0     ...         0   \n",
      "26     0   0    0     0      0       0     0    0    0   0     ...         0   \n",
      "27     0   0    0     0      0       0     0    0    0   0     ...         0   \n",
      "28     0   0    0     0      0       0     0    0    0   0     ...         0   \n",
      "29     0   0    0     0      0       0     0    0    0   0     ...         0   \n",
      "...   ..  ..  ...   ...    ...     ...   ...  ...  ...  ..     ...       ...   \n",
      "1425   0   0    0     0      0       0     0    0    0   0     ...         0   \n",
      "1426   0   0    0     0      0       0     0    0    0   0     ...         0   \n",
      "1427   0   0    0     0      0       0     0    0    0   0     ...         0   \n",
      "1428   0   0    0     0      0       0     0    0    0   0     ...         0   \n",
      "1429   0   0    0     0      0       0     0    0    0   0     ...         0   \n",
      "1430   0   0    0     0      0       0     0    0    0   0     ...         0   \n",
      "1431   0   0    0     0      0       0     0    0    0   0     ...         0   \n",
      "1432   0   0    0     0      0       0     0    0    0   0     ...         0   \n",
      "1433   0   0    0     0      0       0     0    0    0   0     ...         0   \n",
      "1434   0   0    0     0      0       0     0    0    0   0     ...         0   \n",
      "1435   0   0    0     0      0       0     0    0    0   0     ...         0   \n",
      "1436   0   0    0     0      0       0     0    0    0   0     ...         0   \n",
      "1437   0   0    0     0      0       0     0    0    0   0     ...         0   \n",
      "1438   0   0    0     0      0       0     0    0    0   0     ...         0   \n",
      "1439   0   0    0     0      0       0     0    0    0   0     ...         0   \n",
      "1440   0   0    0     0      0       0     0    0    0   0     ...         0   \n",
      "1441   0   0    0     0      0       0     0    0    0   0     ...         0   \n",
      "1442   0   0    0     0      0       0     0    0    0   0     ...         0   \n",
      "1443   0   0    0     0      0       0     0    0    0   0     ...         0   \n",
      "1444   0   0    0     0      0       0     0    0    0   0     ...         0   \n",
      "1445   0   0    0     0      0       0     0    0    0   0     ...         0   \n",
      "1446   0   0    0     0      0       0     0    0    0   0     ...         0   \n",
      "1447   0   0    0     0      0       0     0    0    0   0     ...         0   \n",
      "1448   0   0    0     0      0       0     0    0    0   0     ...         0   \n",
      "1449   0   0    0     0      0       0     0    0    0   0     ...         0   \n",
      "1450   0   0    0     0      0       0     0    0    0   0     ...         0   \n",
      "1451   0   0    0     0      0       0     0    0    1   0     ...         0   \n",
      "1452   0   0    0     0      0       0     0    0    0   0     ...         0   \n",
      "1453   0   0    0     0      0       0     0    0    0   0     ...         0   \n",
      "1454   0   0    0     0      0       0     0    0    0   0     ...         0   \n",
      "\n",
      "      zack  zealot  zero  zika  zimmerman  zombi  zone  zoo  zuckerberg  \n",
      "0        0       0     0     0          0      0     0    0           0  \n",
      "1        0       0     0     0          0      0     0    0           0  \n",
      "2        0       0     0     0          0      0     0    0           0  \n",
      "3        0       0     0     0          0      0     0    0           0  \n",
      "4        0       0     0     0          0      0     0    0           0  \n",
      "5        0       0     0     0          0      0     0    0           0  \n",
      "6        0       0     0     0          0      0     0    0           0  \n",
      "7        0       0     0     0          0      0     0    0           0  \n",
      "8        0       0     0     0          0      0     0    0           0  \n",
      "9        0       0     0     0          0      0     0    0           0  \n",
      "10       0       0     0     0          0      0     0    0           0  \n",
      "11       0       0     0     0          0      0     0    0           0  \n",
      "12       0       0     0     0          0      0     0    0           0  \n",
      "13       0       0     0     0          0      0     0    0           0  \n",
      "14       0       0     0     0          0      0     0    0           0  \n",
      "15       0       0     0     0          0      0     0    0           0  \n",
      "16       0       0     0     0          0      0     0    0           0  \n",
      "17       0       0     0     0          0      0     0    0           0  \n",
      "18       0       0     0     0          0      0     0    0           0  \n",
      "19       0       0     0     0          0      0     0    0           0  \n",
      "20       0       0     0     0          0      0     0    0           0  \n",
      "21       0       0     0     0          0      0     0    0           0  \n",
      "22       0       0     0     0          0      0     0    0           0  \n",
      "23       0       0     0     0          0      0     0    0           0  \n",
      "24       0       0     0     0          0      0     0    0           0  \n",
      "25       0       0     0     0          0      0     0    0           0  \n",
      "26       0       0     0     0          0      0     0    0           0  \n",
      "27       0       0     0     0          0      0     0    0           0  \n",
      "28       0       0     0     0          0      0     0    0           0  \n",
      "29       0       0     0     0          0      0     0    0           0  \n",
      "...    ...     ...   ...   ...        ...    ...   ...  ...         ...  \n",
      "1425     0       0     0     0          0      0     0    0           0  \n",
      "1426     0       0     0     0          0      0     0    0           0  \n",
      "1427     0       0     0     0          0      0     0    0           0  \n",
      "1428     0       0     0     0          0      0     0    0           0  \n",
      "1429     0       0     0     0          0      0     0    0           0  \n",
      "1430     0       0     0     0          0      0     0    0           0  \n",
      "1431     0       0     0     0          0      0     0    0           0  \n",
      "1432     0       0     0     0          0      0     0    0           0  \n",
      "1433     0       0     0     0          0      0     0    0           0  \n",
      "1434     0       0     0     0          0      0     0    0           0  \n",
      "1435     0       0     0     0          0      0     0    0           0  \n",
      "1436     0       0     0     0          0      0     0    0           0  \n",
      "1437     0       0     0     0          0      0     0    0           0  \n",
      "1438     0       0     0     0          0      0     0    0           0  \n",
      "1439     0       0     0     0          0      0     0    0           0  \n",
      "1440     0       0     0     0          0      0     0    0           0  \n",
      "1441     0       0     0     0          0      0     0    0           0  \n",
      "1442     0       0     0     0          0      0     0    0           0  \n",
      "1443     0       0     0     0          0      0     0    0           0  \n",
      "1444     0       0     0     0          0      0     0    0           0  \n",
      "1445     0       0     0     0          0      0     0    0           0  \n",
      "1446     0       0     0     0          0      0     0    0           0  \n",
      "1447     0       0     0     0          0      0     0    0           0  \n",
      "1448     0       0     0     0          0      0     0    0           0  \n",
      "1449     0       0     0     0          0      0     0    0           0  \n",
      "1450     0       0     0     0          0      0     0    0           0  \n",
      "1451     0       0     0     0          0      0     0    0           0  \n",
      "1452     0       0     0     0          0      0     0    0           0  \n",
      "1453     0       0     0     0          0      0     0    0           0  \n",
      "1454     0       0     0     0          0      0     0    0           0  \n",
      "\n",
      "[1455 rows x 3374 columns]\n",
      "[ 1.  1.  1. ...,  1.  1.  0.]\n"
     ]
    }
   ],
   "source": [
    "doc_col1 = df[df.columns[2]].values\n",
    "combine = []\n",
    "for row in doc_col1:\n",
    "    str1 =\" \".join(str(x) for x in row) \n",
    "    combine.append(str1)\n",
    "print(combine)    \n",
    "\n",
    "vec = CountVectorizer()\n",
    "X = vec.fit_transform(combine).toarray()\n",
    "data_matrix = pd.DataFrame(X, columns=vec.get_feature_names())\n",
    "print(data_matrix)\n",
    "y= df.iloc[:, 4].values\n",
    "print(y)"
   ]
  },
  {
   "cell_type": "markdown",
   "metadata": {},
   "source": [
    "# Split Dataset"
   ]
  },
  {
   "cell_type": "code",
   "execution_count": 12,
   "metadata": {},
   "outputs": [
    {
     "name": "stdout",
     "output_type": "stream",
     "text": [
      "(1455, 5)\n",
      "(1018, 3374)\n",
      "(1018,)\n"
     ]
    },
    {
     "name": "stderr",
     "output_type": "stream",
     "text": [
      "C:\\Users\\100631155\\AppData\\Local\\Continuum\\Anaconda3\\lib\\site-packages\\sklearn\\cross_validation.py:44: DeprecationWarning: This module was deprecated in version 0.18 in favor of the model_selection module into which all the refactored classes and functions are moved. Also note that the interface of the new CV iterators are different from that of this module. This module will be removed in 0.20.\n",
      "  \"This module will be removed in 0.20.\", DeprecationWarning)\n"
     ]
    }
   ],
   "source": [
    "from sklearn.model_selection import train_test_split\n",
    "from sklearn import cross_validation, metrics\n",
    "\n",
    "x_train, x_test, y_train, y_test = cross_validation.train_test_split(X, y, test_size=0.3, random_state=0)\n",
    "print(df.shape)\n",
    "print(x_train.shape)\n",
    "print(y_train.shape)"
   ]
  },
  {
   "cell_type": "markdown",
   "metadata": {
    "collapsed": true
   },
   "source": [
    "# Prediction of PageView using Decision Tree"
   ]
  },
  {
   "cell_type": "code",
   "execution_count": 13,
   "metadata": {
    "collapsed": true
   },
   "outputs": [],
   "source": [
    "from sklearn import tree"
   ]
  },
  {
   "cell_type": "code",
   "execution_count": 14,
   "metadata": {
    "collapsed": true
   },
   "outputs": [],
   "source": [
    "def pageview_prediction_model_dT(x_train, y_train, x_test):\n",
    "    model = tree.DecisionTreeClassifier(criterion='gini')\n",
    "    model.fit(x_train, y_train)\n",
    "    print(model.score(x_train, y_train))\n",
    "    #Predict Output\n",
    "    output = model.predict(x_test)\n",
    "    return output"
   ]
  },
  {
   "cell_type": "code",
   "execution_count": 15,
   "metadata": {},
   "outputs": [
    {
     "name": "stdout",
     "output_type": "stream",
     "text": [
      "0.997053045187\n"
     ]
    }
   ],
   "source": [
    "output_dt = pageview_prediction_model_dT(x_train, y_train, x_test)"
   ]
  },
  {
   "cell_type": "markdown",
   "metadata": {},
   "source": [
    "# Calculating Accuracy"
   ]
  },
  {
   "cell_type": "code",
   "execution_count": 16,
   "metadata": {
    "collapsed": true
   },
   "outputs": [],
   "source": [
    "def calculate_accuracy(output, y_test):\n",
    "    accuracy = 0\n",
    "    for i in range(len(output)):\n",
    "        if y_test[i] == output[i]:\n",
    "            accuracy += 1\n",
    "    \n",
    "    accuracy = accuracy/len(output)\n",
    "    \n",
    "    return accuracy"
   ]
  },
  {
   "cell_type": "code",
   "execution_count": 17,
   "metadata": {},
   "outputs": [
    {
     "name": "stdout",
     "output_type": "stream",
     "text": [
      "0.585812356979405\n"
     ]
    }
   ],
   "source": [
    "accuracy = calculate_accuracy(output_dt, y_test)\n",
    "print(accuracy)"
   ]
  },
  {
   "cell_type": "markdown",
   "metadata": {},
   "source": [
    "# Prediction of PageView using Gaussian Naive Bayes"
   ]
  },
  {
   "cell_type": "code",
   "execution_count": 18,
   "metadata": {
    "collapsed": true
   },
   "outputs": [],
   "source": [
    "from sklearn.naive_bayes import GaussianNB"
   ]
  },
  {
   "cell_type": "code",
   "execution_count": 19,
   "metadata": {
    "collapsed": true
   },
   "outputs": [],
   "source": [
    "def pageview_prediction_model_GNB(x_train, y_train, x_test):\n",
    "    model = GaussianNB()\n",
    "    model.fit(x_train, y_train)\n",
    "    print(model.score(x_train, y_train))\n",
    "    #Predict Output\n",
    "    output= model.predict(x_test)\n",
    "    return output"
   ]
  },
  {
   "cell_type": "code",
   "execution_count": 20,
   "metadata": {},
   "outputs": [
    {
     "name": "stdout",
     "output_type": "stream",
     "text": [
      "0.969548133595\n"
     ]
    }
   ],
   "source": [
    "output_GNB = pageview_prediction_model_GNB(x_train, y_train, x_test)"
   ]
  },
  {
   "cell_type": "code",
   "execution_count": 21,
   "metadata": {},
   "outputs": [
    {
     "name": "stdout",
     "output_type": "stream",
     "text": [
      "0.5652173913043478\n"
     ]
    }
   ],
   "source": [
    "accuracy = calculate_accuracy(output_GNB, y_test)\n",
    "print(accuracy)"
   ]
  },
  {
   "cell_type": "markdown",
   "metadata": {},
   "source": [
    "# Prediction of PageView using Support Vector Machine"
   ]
  },
  {
   "cell_type": "code",
   "execution_count": 22,
   "metadata": {
    "collapsed": true
   },
   "outputs": [],
   "source": [
    "from sklearn import svm\n",
    "from itertools import cycle\n",
    "from sklearn.metrics import roc_curve, auc\n",
    "from sklearn.preprocessing import label_binarize\n",
    "from sklearn.multiclass import OneVsRestClassifier\n",
    "from scipy import interp"
   ]
  },
  {
   "cell_type": "code",
   "execution_count": 23,
   "metadata": {
    "collapsed": true
   },
   "outputs": [],
   "source": [
    "def pageview_prediction_model_SVM(x_train, y_train, x_test):\n",
    "    model = svm.SVC()\n",
    "    model.fit(x_train, y_train)\n",
    "    print(model.score(x_train, y_train))\n",
    "    output= model.predict(x_test)\n",
    "    return output"
   ]
  },
  {
   "cell_type": "code",
   "execution_count": 26,
   "metadata": {},
   "outputs": [
    {
     "name": "stdout",
     "output_type": "stream",
     "text": [
      "0.584479371316\n"
     ]
    }
   ],
   "source": [
    "output_SVM = pageview_prediction_model_SVM(x_train, y_train, x_test)"
   ]
  },
  {
   "cell_type": "code",
   "execution_count": 27,
   "metadata": {},
   "outputs": [
    {
     "name": "stdout",
     "output_type": "stream",
     "text": [
      "0.5743707093821511\n"
     ]
    }
   ],
   "source": [
    "accuracy = calculate_accuracy(output_SVM, y_test)\n",
    "print(accuracy)"
   ]
  },
  {
   "cell_type": "markdown",
   "metadata": {},
   "source": [
    "# Prediction of PageView using Random Forest"
   ]
  },
  {
   "cell_type": "code",
   "execution_count": 28,
   "metadata": {
    "collapsed": true
   },
   "outputs": [],
   "source": [
    "from sklearn.ensemble import RandomForestClassifier"
   ]
  },
  {
   "cell_type": "code",
   "execution_count": 29,
   "metadata": {
    "collapsed": true
   },
   "outputs": [],
   "source": [
    "def pageview_prediction_model_RF(x_train, y_train, x_test):\n",
    "    clf = RandomForestClassifier(n_jobs=2, random_state=0)\n",
    "    clf.fit(x_train, y_train)\n",
    "    output= clf.predict(test[features])\n",
    "    return output"
   ]
  },
  {
   "cell_type": "code",
   "execution_count": 30,
   "metadata": {},
   "outputs": [
    {
     "name": "stdout",
     "output_type": "stream",
     "text": [
      "0.584479371316\n"
     ]
    }
   ],
   "source": [
    "output_RF = pageview_prediction_model_SVM(x_train, y_train, x_test)"
   ]
  },
  {
   "cell_type": "code",
   "execution_count": 31,
   "metadata": {},
   "outputs": [
    {
     "name": "stdout",
     "output_type": "stream",
     "text": [
      "0.5743707093821511\n"
     ]
    }
   ],
   "source": [
    "accuracy = calculate_accuracy(output_RF, y_test)\n",
    "print(accuracy)"
   ]
  }
 ],
 "metadata": {
  "kernelspec": {
   "display_name": "Python 3",
   "language": "python",
   "name": "python3"
  },
  "language_info": {
   "codemirror_mode": {
    "name": "ipython",
    "version": 3
   },
   "file_extension": ".py",
   "mimetype": "text/x-python",
   "name": "python",
   "nbconvert_exporter": "python",
   "pygments_lexer": "ipython3",
   "version": "3.6.1"
  }
 },
 "nbformat": 4,
 "nbformat_minor": 2
}
